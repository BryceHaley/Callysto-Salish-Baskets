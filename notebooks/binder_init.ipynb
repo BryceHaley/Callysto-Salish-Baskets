{
 "cells": [
  {
   "cell_type": "markdown",
   "metadata": {
    "hidden": false
   },
   "source": [
    "![alt text](https://github.com/callysto/callysto-sample-notebooks/blob/master/notebooks/images/Callysto_Notebook-Banner_Top_06.06.18.jpg?raw=true)  "
   ]
  },
  {
   "cell_type": "markdown",
   "metadata": {
    "hidden": false
   },
   "source": [
    "<h1 align='center'>Install Dependencies for Notebooks</h1>\n",
    "\n",
    "The purpose of this notebook is to  install necessary dependencies to run and use all other notebooks in this repository. In this notebook you will find a single cell. To run it, simply select the \"Restart & Run All Cells\" option in the Kernel menu. Press the \"Restart and Run All\" button when propmted.  \n",
    "\n",
    "<h3>Step 1</h3>\n",
    "\n",
    "![RestartRunAll](./images/Res.png)\n",
    "\n",
    "\n",
    "<h3>Step 2</h3>\n",
    "\n",
    "![RunALL](./images/RestartandRun.png)\n",
    "\n",
    "<h3>Step 3</h3>\n",
    "\n",
    "Download and setting up will begin. Please give it a few minutes for dependencies to be installed. When the notebook is ready, you should see the following at the end of the page\n",
    "\n",
    "![End](./images/End.png)\n",
    "\n",
    "\n",
    "<h3>Step 4</h3>\n",
    "\n",
    "You are ready to begin using the notebooks. "
   ]
  },
  {
   "cell_type": "code",
   "execution_count": null,
   "metadata": {
    "hidden": false
   },
   "outputs": [],
   "source": [
    "!echo \"Begin set up\"\n",
    "!echo \"...\"\n",
    "!echo \"Install Matplotlib for 2D and 3D basket models\"\n",
    "!pip install matplotlib --user\n",
    "!echo \"Finished installing Matplotlib\"\n",
    "!echo \"...\"\n",
    "!echo \"Install seaborn for beautiful colors\"\n",
    "!pip install seaborn --user\n",
    "!echo \"Finished installing seaborn\"\n",
    "!echo \"Setup complete\""
   ]
  },
  {
   "cell_type": "markdown",
   "metadata": {
    "hidden": false
   },
   "source": [
    "<h3>Recap</h3>\n",
    "\n",
    "\n",
    "![Demo](./images/InitNB.gif)"
   ]
  },
  {
   "cell_type": "markdown",
   "metadata": {
    "hidden": false
   },
   "source": [
    "![alt text](https://github.com/callysto/callysto-sample-notebooks/blob/master/notebooks/images/Callysto_Notebook-Banners_Bottom_06.06.18.jpg?raw=true)"
   ]
  }
 ],
 "metadata": {
  "kernelspec": {
   "display_name": "Python 3",
   "language": "python",
   "name": "python3"
  },
  "language_info": {
   "codemirror_mode": {
    "name": "ipython",
    "version": 3
   },
   "file_extension": ".py",
   "mimetype": "text/x-python",
   "name": "python",
   "nbconvert_exporter": "python",
   "pygments_lexer": "ipython3",
   "version": "3.6.4"
  }
 },
 "nbformat": 4,
 "nbformat_minor": 2
}
