{
 "cells": [
  {
   "cell_type": "code",
   "execution_count": 1,
   "metadata": {},
   "outputs": [
    {
     "data": {
      "text/html": [
       "<script>\n",
       "code_show=true; \n",
       "function code_toggle() { if (code_show){ $('div.input').hide(); } else { $('div.input').show(); } code_show = !code_show } \n",
       "$( document ).ready(code_toggle);\n",
       "</script>\n",
       "\n",
       "Raw code hidden. To show code, click <a href=\"javascript:code_toggle()\">here</a>. <b>To begin the notebook, click Kernel then click Restart & Run All. </b> "
      ],
      "text/plain": [
       "<IPython.core.display.HTML object>"
      ]
     },
     "execution_count": 1,
     "metadata": {},
     "output_type": "execute_result"
    }
   ],
   "source": [
    "from IPython.display import HTML\n",
    "\n",
    "HTML('''<script>\n",
    "code_show=true; \n",
    "function code_toggle() { if (code_show){ $('div.input').hide(); } else { $('div.input').show(); } code_show = !code_show } \n",
    "$( document ).ready(code_toggle);\n",
    "</script>\n",
    "\n",
    "Raw code hidden. To show code, click <a href=\"javascript:code_toggle()\">here</a>. <b>To begin the notebook, click Kernel then click Restart & Run All. </b> ''')"
   ]
  },
  {
   "cell_type": "markdown",
   "metadata": {},
   "source": [
    "<center><h1>Combining and Editing Motifs to create 3D Basket Models</h1></center>\n",
    "    \n",
    "#### Authors: Howell Tan, Jenifer Pham & Laura Gutierrez Funderburk, Cedric Chauve\n",
    "#### Contact: [Dr. Cedric Chauve](https://cchauve.github.io) and [Dr. Veselin Jungic](http://people.math.sfu.ca/~vjungic/)\n",
    "#### Last modified: September 18, 2018"
   ]
  },
  {
   "cell_type": "code",
   "execution_count": 2,
   "metadata": {},
   "outputs": [],
   "source": [
    "%matplotlib notebook\n",
    "%run -i ./python_scripts/modules.py\n",
    "%run -i ./python_scripts/colours.py\n",
    "%run -i ./python_scripts/atomic_rectangle.py\n",
    "%run -i ./python_scripts/atomic_triangle.py\n",
    "%run -i ./python_scripts/atomic_chevron.py\n",
    "%run -i ./python_scripts/operations.py\n",
    "%run -i ./python_scripts/plotting.py\n",
    "%run -i ./python_scripts/modify_patterns.py"
   ]
  },
  {
   "cell_type": "code",
   "execution_count": 3,
   "metadata": {},
   "outputs": [
    {
     "data": {
      "text/html": [
       "<style>\n",
       ".output_wrapper button.btn.btn-default,\n",
       ".output_wrapper .ui-dialog-titlebar {\n",
       "  display: none;\n",
       "}\n",
       "</style>"
      ],
      "text/plain": [
       "<IPython.core.display.HTML object>"
      ]
     },
     "metadata": {},
     "output_type": "display_data"
    }
   ],
   "source": [
    "%%html\n",
    "<style>\n",
    ".output_wrapper button.btn.btn-default,\n",
    ".output_wrapper .ui-dialog-titlebar {\n",
    "  display: none;\n",
    "}\n",
    "</style>"
   ]
  },
  {
   "cell_type": "code",
   "execution_count": 4,
   "metadata": {},
   "outputs": [],
   "source": [
    "def rerun_cell(ev):\n",
    "    \n",
    "    display(Javascript('IPython.notebook.execute_cell_range(IPython.notebook.get_selected_index()+1,IPython.notebook.get_selected_index()+2)'))"
   ]
  },
  {
   "cell_type": "code",
   "execution_count": 5,
   "metadata": {},
   "outputs": [],
   "source": [
    "def save_joined_pattern(ev):\n",
    "    global pattern_files\n",
    "    \n",
    "    display(Javascript('IPython.notebook.execute_cell_range(IPython.notebook.get_selected_index(), IPython.notebook.get_selected_index()+1)'))\n",
    "\n",
    "    # List Pattern Text Files\n",
    "    pattern_files = os.listdir(\"./patterns/\")\n",
    "    \n",
    "    # Remove checkpoints from folder if exists\n",
    "    if '.ipynb_checkpoints' in pattern_files:\n",
    "        pattern_files.remove('.ipynb_checkpoints')\n",
    "    \n",
    "    # Check if file name is taken\n",
    "    if (file_name1.value in pattern_files):\n",
    "        display( Markdown(\"The file <b>\" +  file_name1.value + '</b> already exists. If you still would like to save your pattern as <b>' + file_name1.value + '</b>, delete the file and save again.') )\n",
    "    \n",
    "    # Write joined pattern into text file\n",
    "    elif (file_name1.value != ''):\n",
    "        file = open(\"./patterns/\" + file_name1.value, \"w\")\n",
    "        new_pattern = join_patterns(first, second, spacing.value)\n",
    "\n",
    "        file.write(new_pattern)\n",
    "        file.close()\n",
    "\n",
    "        display(Markdown(\"Your motif has been saved as <b>\" + file_name1.value + \"</b>.\"))\n",
    "\n",
    "\n",
    "def save_edited_pattern(ev):\n",
    "    global pattern_files, mod_pattern\n",
    "    \n",
    "    display(Javascript('IPython.notebook.execute_cell_range(IPython.notebook.get_selected_index(), IPython.notebook.get_selected_index()+1)'))\n",
    "     \n",
    "    # List Pattern Text Files\n",
    "    pattern_files = os.listdir(\"./patterns/\")\n",
    "\n",
    "    # Remove checkpoints from folder if exists\n",
    "    if '.ipynb_checkpoints' in pattern_files:\n",
    "        pattern_files.remove('.ipynb_checkpoints')\n",
    "        \n",
    "    # Check if file name is taken    \n",
    "    if (file_name2.value in pattern_files):\n",
    "        display( Markdown(\"The file <b>\" +  file_name2.value + '</b> already exists. If you still would like to save your pattern as <b>' + file_name2.value + '</b>, delete the file and save again.') )\n",
    "    \n",
    "    # Write edited pattern into text file\n",
    "    elif (file_name2.value != ''):\n",
    "        file = open(\"./patterns/\" + file_name2.value, \"w\")\n",
    "        new_pattern = list_to_pattern_str(mod_pattern)\n",
    "        \n",
    "        file.write(new_pattern)\n",
    "        file.close()\n",
    "\n",
    "        display(Markdown(\"Your motif has been saved as <b>\" + file_name2.value + \"</b>.\"))\n",
    "\n",
    "def save_created_pattern(ev):    \n",
    "    global pattern_files, create_pattern\n",
    "    \n",
    "    display(Javascript('IPython.notebook.execute_cell_range(IPython.notebook.get_selected_index(), IPython.notebook.get_selected_index()+1)'))\n",
    "     \n",
    "    # List Pattern Text Files\n",
    "    pattern_files = os.listdir(\"./patterns/\")\n",
    "\n",
    "    # Removed checkpoints from folder if exists\n",
    "    if '.ipynb_checkpoints' in pattern_files:\n",
    "        pattern_files.remove('.ipynb_checkpoints')\n",
    "      \n",
    "    # Check if file name is taken\n",
    "    if (file_name3.value in pattern_files):\n",
    "        display( Markdown(\"The file <b>\" +  file_name3.value + '</b> already exists. If you still would like to save your pattern as <b>' + file_name3.value + '</b>, delete the file and save again.') )\n",
    "    \n",
    "    # Write newly created pattern into text file\n",
    "    elif (file_name3.value != ''):\n",
    "        file = open(\"./patterns/\" + file_name3.value, \"w\")\n",
    "        new_pattern = list_to_pattern_str(create_pattern)\n",
    "        \n",
    "        file.write(new_pattern)\n",
    "        file.close()\n",
    "\n",
    "        display(Markdown(\"Your motif has been saved as <b>\" + file_name3.value + \"</b>.\"))\n",
    "\n",
    "def refresh_list(ev):\n",
    "    global pattern_files\n",
    "    \n",
    "    # List Pattern Text Files\n",
    "    pattern_files = os.listdir(\"./patterns/\")\n",
    "\n",
    "    if '.ipynb_checkpoints' in pattern_files:\n",
    "        pattern_files.remove('.ipynb_checkpoints')\n",
    "    \n",
    "    # Rerun cell to refresh list of files in pattern folder\n",
    "    display(Javascript('IPython.notebook.execute_cell_range(IPython.notebook.get_selected_index(), IPython.notebook.get_selected_index()+1)'))\n",
    "\n",
    "def apply_alteration(ev):\n",
    "    global create_button_clicked, join_button_clicked, edit_button_clicked\n",
    "    create_button_clicked = True\n",
    "    join_button_clicked = True\n",
    "    edit_button_clicked = True\n",
    "    \n",
    "    # Run cell below\n",
    "    display(Javascript('IPython.notebook.execute_cell_range(IPython.notebook.get_selected_index()+1, IPython.notebook.get_selected_index()+3)'))\n",
    "    "
   ]
  },
  {
   "cell_type": "code",
   "execution_count": 6,
   "metadata": {},
   "outputs": [],
   "source": [
    "global pattern_files, new_pattern, file_name, save_button\n",
    "\n",
    "# Create folder name patterns in pattern folder does not exist\n",
    "if not os.path.exists('patterns'):\n",
    "    os.makedirs('patterns')\n",
    "        \n",
    "# List Pattern Text Files\n",
    "pattern_files = os.listdir(\"./patterns/\")\n",
    "\n",
    "# Remove checkpoints from folder if exists\n",
    "if '.ipynb_checkpoints' in pattern_files:\n",
    "    pattern_files.remove('.ipynb_checkpoints')\n",
    "\n",
    "    "
   ]
  },
  {
   "cell_type": "code",
   "execution_count": 7,
   "metadata": {},
   "outputs": [],
   "source": [
    "# Define layout and style of widgets\n",
    "box_layout = Layout(display='flex', flex_flow='row', align_items='center', width='100%', justify_content = 'center')\n",
    "style = {'description_width': 'initial'}"
   ]
  },
  {
   "cell_type": "markdown",
   "metadata": {},
   "source": [
    "## Combining motifs\n",
    "   \n",
    "The motifs that we have seen up until now have been generated from a single atomic motif. A basket sometimes displays multiple motifs, combined together. To do so, our tool below allows to select two motifs created previously, set the desired spacing between them, and click the Join motifs button. \n",
    "\n",
    "Two motifs of the same height will be simply be previewed side by side. motifs of unequal heights need additional blocks added to the top and bottom of the motif with lower valued height in order for the height dimensions to match. Thus, the motif of lower valued height will be horizontally centered alongside the motif with higher valued height. \n",
    "\n",
    "Once two motifs have been joined, you can save the motif and continue to combine more motifs to your new motif if you wish. If you have saved your motif but do not see the file in the dropdown menu, try clicking on the Refresh Files button.\n"
   ]
  },
  {
   "cell_type": "code",
   "execution_count": 8,
   "metadata": {},
   "outputs": [
    {
     "data": {
      "application/vnd.jupyter.widget-view+json": {
       "model_id": "58bdc1f438dc4d0e9c483ef59715d670",
       "version_major": 2,
       "version_minor": 0
      },
      "text/html": [
       "<p>Failed to display Jupyter Widget of type <code>Box</code>.</p>\n",
       "<p>\n",
       "  If you're reading this message in the Jupyter Notebook or JupyterLab Notebook, it may mean\n",
       "  that the widgets JavaScript is still loading. If this message persists, it\n",
       "  likely means that the widgets JavaScript library is either not installed or\n",
       "  not enabled. See the <a href=\"https://ipywidgets.readthedocs.io/en/stable/user_install.html\">Jupyter\n",
       "  Widgets Documentation</a> for setup instructions.\n",
       "</p>\n",
       "<p>\n",
       "  If you're reading this message in another frontend (for example, a static\n",
       "  rendering on GitHub or <a href=\"https://nbviewer.jupyter.org/\">NBViewer</a>),\n",
       "  it may mean that your frontend doesn't currently support widgets.\n",
       "</p>\n"
      ],
      "text/plain": [
       "Box(children=(Dropdown(description='Motif 1:', options=('Stacked Triangle', 'Square Rectangle', 'Diamond', 'Snake', 'Expanded Triangle'), style=DescriptionStyle(description_width='initial'), value='Stacked Triangle'), Dropdown(description='Motif 2:', options=('Stacked Triangle', 'Square Rectangle', 'Diamond', 'Snake', 'Expanded Triangle'), style=DescriptionStyle(description_width='initial'), value='Stacked Triangle'), Button(button_style='info', description='Refresh Files', style=ButtonStyle())), layout=Layout(align_items='center', display='flex', flex_flow='row', justify_content='center', width='100%'))"
      ]
     },
     "metadata": {},
     "output_type": "display_data"
    },
    {
     "data": {
      "application/vnd.jupyter.widget-view+json": {
       "model_id": "636366a55d474e32876822510949749b",
       "version_major": 2,
       "version_minor": 0
      },
      "text/html": [
       "<p>Failed to display Jupyter Widget of type <code>VBox</code>.</p>\n",
       "<p>\n",
       "  If you're reading this message in the Jupyter Notebook or JupyterLab Notebook, it may mean\n",
       "  that the widgets JavaScript is still loading. If this message persists, it\n",
       "  likely means that the widgets JavaScript library is either not installed or\n",
       "  not enabled. See the <a href=\"https://ipywidgets.readthedocs.io/en/stable/user_install.html\">Jupyter\n",
       "  Widgets Documentation</a> for setup instructions.\n",
       "</p>\n",
       "<p>\n",
       "  If you're reading this message in another frontend (for example, a static\n",
       "  rendering on GitHub or <a href=\"https://nbviewer.jupyter.org/\">NBViewer</a>),\n",
       "  it may mean that your frontend doesn't currently support widgets.\n",
       "</p>\n"
      ],
      "text/plain": [
       "VBox(children=(IntSlider(value=0, description='Spacing Amount', max=10, style=SliderStyle(description_width='initial')), Button(button_style='info', description='Join Motifs', style=ButtonStyle())), layout=Layout(align_items='center', display='flex', flex_flow='column', justify_content='center', width='100%'))"
      ]
     },
     "metadata": {},
     "output_type": "display_data"
    }
   ],
   "source": [
    "global join_button_clicked\n",
    "join_button_clicked = False\n",
    "\n",
    "# Layout for widgets\n",
    "box_layout = Layout(display='flex', flex_flow='row', align_items='center', width='100%', justify_content = 'center')\n",
    "style = {'description_width': 'initial'}\n",
    "\n",
    "# Create dropdown menu for patterns\n",
    "first_pattern = widgets.Dropdown(options = pattern_files, description ='Motif 1:', style = style, disabled=False,)\n",
    "second_pattern = widgets.Dropdown(options = pattern_files, description ='Motif 2:', style = style, disabled=False,)\n",
    "spacing = widgets.IntSlider(value = 0, min = 0, max = 10, description = \"Spacing Amount\", style = style)\n",
    "\n",
    "# Create join and refresh button and define click events\n",
    "join_button = widgets.Button( button_style= 'info', description=\"Join Motifs\")\n",
    "join_button.on_click(apply_alteration)\n",
    "\n",
    "refresh_button = widgets.Button( button_style= 'info', description=\"Refresh Files\")\n",
    "refresh_button.on_click(refresh_list)\n",
    "\n",
    "display(Box(children = [first_pattern, second_pattern, refresh_button], layout = box_layout))\n",
    "display(VBox(children = [spacing, join_button], layout = Layout(display= 'flex', flex_flow= 'column', align_items= 'center', width='100%', justify_content = 'center')))\n",
    "\n",
    "# Create saving widgets\n",
    "save_button1 = widgets.Button(button_style= 'info',description=\"Save\")\n",
    "save_button1.on_click(save_joined_pattern)\n",
    "\n",
    "file_name1 = widgets.Text(value = '', description='File Name:', disabled=False)"
   ]
  },
  {
   "cell_type": "code",
   "execution_count": 9,
   "metadata": {},
   "outputs": [],
   "source": [
    "if (join_button_clicked == True and pattern_files != []):\n",
    "    \n",
    "    display(Markdown('<center> <h3> Motif Preview </h3>'))\n",
    "    \n",
    "    # Read chosen pattern text files, join the patterns and display new pattern\n",
    "    first = open('./patterns/'+ first_pattern.value, 'r') \n",
    "    first = first.read()\n",
    "    second = open('./patterns/'+ second_pattern.value, 'r') \n",
    "    second = second.read()\n",
    "\n",
    "    new_pattern = join_patterns(first, second, spacing.value)\n",
    "    plot_motif_2D(new_pattern, ori_p)"
   ]
  },
  {
   "cell_type": "code",
   "execution_count": 10,
   "metadata": {},
   "outputs": [],
   "source": [
    "if (join_button_clicked == True and pattern_files != []):\n",
    "\n",
    "    display(file_name1, save_button1)"
   ]
  },
  {
   "cell_type": "markdown",
   "metadata": {},
   "source": [
    "## Editing motifs\n",
    "    \n",
    "In the interactive below, we can manually edit motifs by clicking. Start by choosing one of the available motifs. To edit your motif, choose a color and click on a block in your motif display to change its color. To erase, choose the last color and click on the block you wish to erase."
   ]
  },
  {
   "cell_type": "code",
   "execution_count": 11,
   "metadata": {},
   "outputs": [
    {
     "data": {
      "application/vnd.jupyter.widget-view+json": {
       "model_id": "0eba49d748874270999a2e8c173d3e3c",
       "version_major": 2,
       "version_minor": 0
      },
      "text/html": [
       "<p>Failed to display Jupyter Widget of type <code>Box</code>.</p>\n",
       "<p>\n",
       "  If you're reading this message in the Jupyter Notebook or JupyterLab Notebook, it may mean\n",
       "  that the widgets JavaScript is still loading. If this message persists, it\n",
       "  likely means that the widgets JavaScript library is either not installed or\n",
       "  not enabled. See the <a href=\"https://ipywidgets.readthedocs.io/en/stable/user_install.html\">Jupyter\n",
       "  Widgets Documentation</a> for setup instructions.\n",
       "</p>\n",
       "<p>\n",
       "  If you're reading this message in another frontend (for example, a static\n",
       "  rendering on GitHub or <a href=\"https://nbviewer.jupyter.org/\">NBViewer</a>),\n",
       "  it may mean that your frontend doesn't currently support widgets.\n",
       "</p>\n"
      ],
      "text/plain": [
       "Box(children=(Dropdown(description='Motif:', options=('Stacked Triangle', 'Square Rectangle', 'Diamond', 'Snake', 'Expanded Triangle'), style=DescriptionStyle(description_width='initial'), value='Stacked Triangle'), Button(button_style='info', description='Refresh Files', style=ButtonStyle())), layout=Layout(align_items='center', display='flex', flex_flow='row', justify_content='center', width='100%'))"
      ]
     },
     "metadata": {},
     "output_type": "display_data"
    },
    {
     "data": {
      "application/vnd.jupyter.widget-view+json": {
       "model_id": "5935874cdcee4be5919c93693b7470fc",
       "version_major": 2,
       "version_minor": 0
      },
      "text/html": [
       "<p>Failed to display Jupyter Widget of type <code>Box</code>.</p>\n",
       "<p>\n",
       "  If you're reading this message in the Jupyter Notebook or JupyterLab Notebook, it may mean\n",
       "  that the widgets JavaScript is still loading. If this message persists, it\n",
       "  likely means that the widgets JavaScript library is either not installed or\n",
       "  not enabled. See the <a href=\"https://ipywidgets.readthedocs.io/en/stable/user_install.html\">Jupyter\n",
       "  Widgets Documentation</a> for setup instructions.\n",
       "</p>\n",
       "<p>\n",
       "  If you're reading this message in another frontend (for example, a static\n",
       "  rendering on GitHub or <a href=\"https://nbviewer.jupyter.org/\">NBViewer</a>),\n",
       "  it may mean that your frontend doesn't currently support widgets.\n",
       "</p>\n"
      ],
      "text/plain": [
       "Box(children=(Button(button_style='info', description='Edit', style=ButtonStyle()),), layout=Layout(align_items='center', display='flex', flex_flow='row', justify_content='center', width='100%'))"
      ]
     },
     "metadata": {},
     "output_type": "display_data"
    }
   ],
   "source": [
    "global mod_pattern, edit_button_clicked\n",
    "edit_button_clicked = False\n",
    "\n",
    "# Create widgets for editing patterns\n",
    "pattern_to_edit = widgets.Dropdown(options = pattern_files, description ='Motif:', style = style, disabled=False,)\n",
    "edit_button = widgets.Button( description = 'Edit', button_style = 'info')\n",
    "edit_button.on_click(apply_alteration)\n",
    "display(Box( children = [pattern_to_edit, refresh_button], layout = box_layout))\n",
    "display(Box( children = [edit_button], layout = box_layout))\n",
    "\n",
    "# Create saving widgets\n",
    "save_button2 = widgets.Button(button_style= 'info',description=\"Save\")\n",
    "save_button2.on_click(save_edited_pattern)\n",
    "\n",
    "file_name2 = widgets.Text(value = '', description='File Name:', disabled=False)"
   ]
  },
  {
   "cell_type": "code",
   "execution_count": 12,
   "metadata": {
    "scrolled": false
   },
   "outputs": [],
   "source": [
    "if (edit_button_clicked == True and pattern_files != []):\n",
    "    \n",
    "    # Read chosen pattern text file, and display pattern for editing\n",
    "    pattern = open('./patterns/'+ pattern_to_edit.value, 'r') \n",
    "    pattern = pattern.read()\n",
    "    \n",
    "    edit(pattern, ori_p)"
   ]
  },
  {
   "cell_type": "code",
   "execution_count": 13,
   "metadata": {},
   "outputs": [],
   "source": [
    "if (edit_button_clicked == True and pattern_files != []):\n",
    "    \n",
    "    display(file_name2, save_button2)"
   ]
  },
  {
   "cell_type": "markdown",
   "metadata": {},
   "source": [
    "## Create Your Own motif\n",
    "    \n",
    "All motifs emerge from a blank canvas. Here, you have full autonomy to create your own motif from scratch. Start by specifying the height and width of your canvas. That is, choose the number of respective rows and columns you would like your canvas to have. Note only positive integers values will be accepted. Decimal inputs will be rounded down to the nearest integer.\n",
    "\n",
    "Once you have specified your dimensions, click the Create Canvas button. To create your motif, choose a color and click on a block to change its color. To erase, choose the last color and click on the block you wish to erase."
   ]
  },
  {
   "cell_type": "code",
   "execution_count": 14,
   "metadata": {},
   "outputs": [
    {
     "data": {
      "application/vnd.jupyter.widget-view+json": {
       "model_id": "3a76802ae3bf49feb59a044131edebb3",
       "version_major": 2,
       "version_minor": 0
      },
      "text/html": [
       "<p>Failed to display Jupyter Widget of type <code>Box</code>.</p>\n",
       "<p>\n",
       "  If you're reading this message in the Jupyter Notebook or JupyterLab Notebook, it may mean\n",
       "  that the widgets JavaScript is still loading. If this message persists, it\n",
       "  likely means that the widgets JavaScript library is either not installed or\n",
       "  not enabled. See the <a href=\"https://ipywidgets.readthedocs.io/en/stable/user_install.html\">Jupyter\n",
       "  Widgets Documentation</a> for setup instructions.\n",
       "</p>\n",
       "<p>\n",
       "  If you're reading this message in another frontend (for example, a static\n",
       "  rendering on GitHub or <a href=\"https://nbviewer.jupyter.org/\">NBViewer</a>),\n",
       "  it may mean that your frontend doesn't currently support widgets.\n",
       "</p>\n"
      ],
      "text/plain": [
       "Box(children=(BoundedIntText(value=10, description='Height', layout=Layout(height='30px', width='20%'), min=1), BoundedIntText(value=20, description='Width', layout=Layout(height='30px', width='20%'), min=1), Button(button_style='info', description='Create Canvas', style=ButtonStyle())), layout=Layout(align_items='center', display='flex', flex_flow='row', justify_content='center', width='100%'))"
      ]
     },
     "metadata": {},
     "output_type": "display_data"
    }
   ],
   "source": [
    "global create_button_clicked\n",
    "create_button_clicked = False\n",
    "\n",
    "# Create widgets for creating pattern\n",
    "height_box = widgets.BoundedIntText(value = 10, min = 1, description = 'Height', disabled = False, layout = Layout(width = \"20%\", height = \"30px\"))\n",
    "width_box = widgets.BoundedIntText(value = 20, min = 1, description = 'Width', disabled = False, layout = Layout(width = \"20%\", height = \"30px\"))\n",
    "create_button = widgets.Button(button_style = 'info', description = 'Create Canvas')\n",
    "\n",
    "display(Box([height_box, width_box, create_button], layout = box_layout))\n",
    "\n",
    "create_button.on_click(apply_alteration)\n",
    "\n",
    "# Create saving widgets\n",
    "save_button3 = widgets.Button(button_style= 'info',description=\"Save\")\n",
    "save_button3.on_click(save_created_pattern)\n",
    "\n",
    "file_name3 = widgets.Text(value = '', description='File Name:', disabled=False)"
   ]
  },
  {
   "cell_type": "code",
   "execution_count": 15,
   "metadata": {},
   "outputs": [],
   "source": [
    "if (create_button_clicked == True):\n",
    "    # Creates a string filled with the plain blocks based on the specified dimensions\n",
    "    canvas_st = height_box.value*(width_box.value*'-' + '\\n')\n",
    "    create(canvas_st, ori_p)"
   ]
  },
  {
   "cell_type": "code",
   "execution_count": 16,
   "metadata": {},
   "outputs": [],
   "source": [
    "if (create_button_clicked == True):\n",
    "    \n",
    "    display(file_name3, save_button3)\n",
    "    "
   ]
  },
  {
   "cell_type": "markdown",
   "metadata": {},
   "source": [
    "## Creating 3D Basket Models\n",
    "\n",
    "A *net* of a 3D shape is an arrangement of two dimensional shapes which can be folded along the edges to become the faces of the 3D shape.  Given a rectangular basket (without a lid cover), we see that the net of the basket consists of five shapes: one rectangle, which makes up the bottom of the basket, and four trapezoids, which make up the sides. Hence, we can add up to four motifs to generate a 3D model of a rectangular basket with motifs.\n",
    "\n",
    "<center> <img src=\"./images/net-rect.png\" alt=\"Rectangular Basket and Net\" width = 50%>\n",
    "    \n",
    "Given a circular basket (without a lid cover), we see that the net of the basket consists of only two shapes. The bottom of the basket is circular in shape and the surface, making up the sides of the basket can be thought of as a single curved trapezoid. Hence, we only require one motif to generate a 3D model of a circular basket with motifs.\n",
    "\n",
    "<center> <img src=\"./images/net-circ.png\" alt=\"Circular Basket and Net\" width = 50%>\n",
    "\n",
    "To place your motifs onto 3D models, first choose a basket shape and then choose the motif you would like to see on each face. If you have saved your motif but do not see the file in the dropdown menu, try clicking on the Refresh Files button. "
   ]
  },
  {
   "cell_type": "code",
   "execution_count": 17,
   "metadata": {},
   "outputs": [],
   "source": [
    "def toggle_button_run_cell(change):\n",
    "    # Run next 4 cells once toggle is changed to display appropriate widgets\n",
    "    value = change['new']\n",
    "    display(Javascript('IPython.notebook.execute_cell_range(IPython.notebook.get_selected_index()+1, IPython.notebook.get_selected_index()+5)'))\n",
    "\n",
    "def refresh_list(ev):\n",
    "    \n",
    "    display(Javascript('IPython.notebook.execute_cell_range(IPython.notebook.get_selected_index()-1, IPython.notebook.get_selected_index()+1)'))\n",
    "    \n",
    "def plot_basket(ev):\n",
    "    global files_selected\n",
    "    files_selected = True\n",
    "    \n",
    "    # Run next cell to plot basket\n",
    "    display(Javascript('IPython.notebook.execute_cell_range(IPython.notebook.get_selected_index()+1, IPython.notebook.get_selected_index()+2)'))\n"
   ]
  },
  {
   "cell_type": "code",
   "execution_count": 18,
   "metadata": {},
   "outputs": [
    {
     "data": {
      "application/vnd.jupyter.widget-view+json": {
       "model_id": "083cd09e9d9044db8df0014f95828850",
       "version_major": 2,
       "version_minor": 0
      },
      "text/html": [
       "<p>Failed to display Jupyter Widget of type <code>ToggleButtons</code>.</p>\n",
       "<p>\n",
       "  If you're reading this message in the Jupyter Notebook or JupyterLab Notebook, it may mean\n",
       "  that the widgets JavaScript is still loading. If this message persists, it\n",
       "  likely means that the widgets JavaScript library is either not installed or\n",
       "  not enabled. See the <a href=\"https://ipywidgets.readthedocs.io/en/stable/user_install.html\">Jupyter\n",
       "  Widgets Documentation</a> for setup instructions.\n",
       "</p>\n",
       "<p>\n",
       "  If you're reading this message in another frontend (for example, a static\n",
       "  rendering on GitHub or <a href=\"https://nbviewer.jupyter.org/\">NBViewer</a>),\n",
       "  it may mean that your frontend doesn't currently support widgets.\n",
       "</p>\n"
      ],
      "text/plain": [
       "ToggleButtons(button_style='info', layout=Layout(align_items='stretch', display='flex', justify_content='center'), options=('Rectangular Basket', 'Circular Basket'), value='Rectangular Basket')"
      ]
     },
     "metadata": {},
     "output_type": "display_data"
    }
   ],
   "source": [
    "global files_selected\n",
    "files_selected = False\n",
    "\n",
    "# Create Toggle Buttons for basket shape selection\n",
    "basket_options = widgets.ToggleButtons(\n",
    "    button_style = 'info',\n",
    "    options=['Rectangular Basket', 'Circular Basket'],\n",
    "    description='',\n",
    "    disabled=False,\n",
    "    layout = Layout(display='flex',\n",
    "                    align_items='stretch',\n",
    "                    justify_content = 'center'))\n",
    "\n",
    "display(basket_options)\n",
    "basket_options.observe(toggle_button_run_cell, 'value')"
   ]
  },
  {
   "cell_type": "code",
   "execution_count": 19,
   "metadata": {},
   "outputs": [
    {
     "data": {
      "text/markdown": [
       "<center><h2> Rectangular Basket </h2>"
      ],
      "text/plain": [
       "<IPython.core.display.Markdown object>"
      ]
     },
     "metadata": {},
     "output_type": "display_data"
    },
    {
     "data": {
      "text/markdown": [
       "<center> <img src=\"./images/rect-basket.png\" alt=\"Rectangular Basket\">"
      ],
      "text/plain": [
       "<IPython.core.display.Markdown object>"
      ]
     },
     "metadata": {},
     "output_type": "display_data"
    }
   ],
   "source": [
    "basket_chose = basket_options.value\n",
    "\n",
    "# Display example of basket image\n",
    "if (basket_chose == 'Rectangular Basket'):\n",
    "    display(Markdown('<center><h2> Rectangular Basket </h2>'))\n",
    "    display(Markdown('<center> <img src=\"./images/rect-basket.png\" alt=\"Rectangular Basket\">'))\n",
    "\n",
    "elif (basket_chose == 'Circular Basket'):\n",
    "    display(Markdown('<center><h2> Circular Basket </h2>'))\n",
    "    display(Markdown('<center> <img src=\"./images/circ-basket.png\" alt=\"Circular Basket\">'))\n"
   ]
  },
  {
   "cell_type": "code",
   "execution_count": 20,
   "metadata": {},
   "outputs": [],
   "source": [
    "# List Pattern Text Files\n",
    "pattern_files = os.listdir(\"./patterns/\")\n",
    "\n",
    "if '.ipynb_checkpoints' in pattern_files:\n",
    "    pattern_files.remove('.ipynb_checkpoints')\n",
    "    \n",
    "box_layout = Layout(display='flex', flex_flow='row', align_items='center', width='100%', justify_content = 'center')\n",
    "style = {'description_width': 'initial'}"
   ]
  },
  {
   "cell_type": "code",
   "execution_count": 21,
   "metadata": {},
   "outputs": [
    {
     "data": {
      "application/vnd.jupyter.widget-view+json": {
       "model_id": "b2e8bf6e88fb4f16bb22e3baa47c4bd8",
       "version_major": 2,
       "version_minor": 0
      },
      "text/html": [
       "<p>Failed to display Jupyter Widget of type <code>Box</code>.</p>\n",
       "<p>\n",
       "  If you're reading this message in the Jupyter Notebook or JupyterLab Notebook, it may mean\n",
       "  that the widgets JavaScript is still loading. If this message persists, it\n",
       "  likely means that the widgets JavaScript library is either not installed or\n",
       "  not enabled. See the <a href=\"https://ipywidgets.readthedocs.io/en/stable/user_install.html\">Jupyter\n",
       "  Widgets Documentation</a> for setup instructions.\n",
       "</p>\n",
       "<p>\n",
       "  If you're reading this message in another frontend (for example, a static\n",
       "  rendering on GitHub or <a href=\"https://nbviewer.jupyter.org/\">NBViewer</a>),\n",
       "  it may mean that your frontend doesn't currently support widgets.\n",
       "</p>\n"
      ],
      "text/plain": [
       "Box(children=(VBox(children=(Dropdown(description='Front Motif:', options=('Stacked Triangle', 'Square Rectangle', 'Diamond', 'Snake', 'Expanded Triangle'), style=DescriptionStyle(description_width='initial'), value='Stacked Triangle'), Dropdown(description='Back Motif:', options=('Stacked Triangle', 'Square Rectangle', 'Diamond', 'Snake', 'Expanded Triangle'), style=DescriptionStyle(description_width='initial'), value='Stacked Triangle')), layout=Layout(align_items='center', display='flex', flex_flow='column', justify_content='center', width='50%')), VBox(children=(Dropdown(description='Left Side Motif:', options=('Stacked Triangle', 'Square Rectangle', 'Diamond', 'Snake', 'Expanded Triangle'), style=DescriptionStyle(description_width='initial'), value='Stacked Triangle'), Dropdown(description='Right Side Motif:', options=('Stacked Triangle', 'Square Rectangle', 'Diamond', 'Snake', 'Expanded Triangle'), style=DescriptionStyle(description_width='initial'), value='Stacked Triangle')), layout=Layout(align_items='center', display='flex', flex_flow='column', justify_content='center', width='50%'))), layout=Layout(align_items='center', display='flex', flex_flow='row', justify_content='center', width='100%'))"
      ]
     },
     "metadata": {},
     "output_type": "display_data"
    },
    {
     "data": {
      "application/vnd.jupyter.widget-view+json": {
       "model_id": "5f8099d2767a4c5688c9d27a3b90f4c9",
       "version_major": 2,
       "version_minor": 0
      },
      "text/html": [
       "<p>Failed to display Jupyter Widget of type <code>Box</code>.</p>\n",
       "<p>\n",
       "  If you're reading this message in the Jupyter Notebook or JupyterLab Notebook, it may mean\n",
       "  that the widgets JavaScript is still loading. If this message persists, it\n",
       "  likely means that the widgets JavaScript library is either not installed or\n",
       "  not enabled. See the <a href=\"https://ipywidgets.readthedocs.io/en/stable/user_install.html\">Jupyter\n",
       "  Widgets Documentation</a> for setup instructions.\n",
       "</p>\n",
       "<p>\n",
       "  If you're reading this message in another frontend (for example, a static\n",
       "  rendering on GitHub or <a href=\"https://nbviewer.jupyter.org/\">NBViewer</a>),\n",
       "  it may mean that your frontend doesn't currently support widgets.\n",
       "</p>\n"
      ],
      "text/plain": [
       "Box(children=(Button(button_style='info', description='Plot Basket', style=ButtonStyle()), Button(button_style='info', description='Refresh Files', style=ButtonStyle())), layout=Layout(align_items='center', display='flex', flex_flow='row', justify_content='center', width='100%'))"
      ]
     },
     "metadata": {},
     "output_type": "display_data"
    }
   ],
   "source": [
    "# Create Refresh Button\n",
    "refresh_button = widgets.Button( button_style= 'info', description=\"Refresh Files\")\n",
    "refresh_button.on_click(refresh_list)\n",
    "\n",
    "# Create Plot Button\n",
    "plot_button = widgets.Button( button_style= 'info', description=\"Plot Basket\")\n",
    "plot_button.on_click(plot_basket)\n",
    "\n",
    "# Create Dropdown Menus for Faces of the Rectangular Basket\n",
    "front_pattern = widgets.Dropdown(options = pattern_files, description ='Front Motif:', style = style, disabled=False,)\n",
    "back_pattern = widgets.Dropdown(options = pattern_files, description ='Back Motif:', style = style, disabled=False,)\n",
    "left_pattern = widgets.Dropdown(options = pattern_files, description ='Left Side Motif:', style = style, disabled=False,)\n",
    "right_pattern = widgets.Dropdown(options = pattern_files, description ='Right Side Motif:', style = style, disabled=False,)\n",
    "\n",
    "box1 = VBox([front_pattern, back_pattern], layout = Layout(display= 'flex', flex_flow= 'column', align_items= 'center', width='50%', justify_content = 'center'))\n",
    "box2 = VBox([left_pattern, right_pattern], layout = Layout(display= 'flex', flex_flow= 'column', align_items= 'center', width='50%', justify_content = 'center'))\n",
    "\n",
    "# Create Dropdown Menu for Face of the Circular Basket\n",
    "circ_pattern = widgets.Dropdown(options = pattern_files, description ='Motif:', style = style, disabled=False,)\n",
    "\n",
    "if (basket_chose == 'Rectangular Basket'):\n",
    "    \n",
    "    display(Box(children = [box1, box2], layout = box_layout))\n",
    "    display(Box(children = [plot_button, refresh_button], layout = box_layout))\n",
    "    \n",
    "elif (basket_chose == 'Circular Basket'):\n",
    "    \n",
    "    display(Box(children = [circ_pattern, refresh_button], layout = box_layout))\n",
    "    display(Box(children = [plot_button], layout = box_layout))\n"
   ]
  },
  {
   "cell_type": "code",
   "execution_count": 22,
   "metadata": {},
   "outputs": [],
   "source": [
    "# Check if files have been selected \n",
    "# Assign pattern to appropriate face(s) and plot basket\n",
    "if files_selected == True:  \n",
    "    if (basket_chose == 'Rectangular Basket'):\n",
    "\n",
    "        front = open('./patterns/'+ front_pattern.value, 'r') \n",
    "        front = front.read()\n",
    "\n",
    "        back = open('./patterns/'+ back_pattern.value, 'r') \n",
    "        back = back.read()\n",
    "\n",
    "        left = open('./patterns/'+ left_pattern.value, 'r') \n",
    "        left = left.read()\n",
    "\n",
    "        right = open('./patterns/'+ right_pattern.value, 'r') \n",
    "        right = right.read()\n",
    "\n",
    "        plot_rect_basket(front, back, left, right, ori_p)\n",
    "\n",
    "    elif (basket_chose == 'Circular Basket'):\n",
    "        pattern = open('./patterns/'+ circ_pattern.value, 'r')\n",
    "        pattern = pattern.read()\n",
    "        plot_circ_basket(pattern, ori_p)\n",
    "    \n",
    "\n",
    "    files_selected = False"
   ]
  }
 ],
 "metadata": {
  "kernelspec": {
   "display_name": "Python 3",
   "language": "python",
   "name": "python3"
  },
  "language_info": {
   "codemirror_mode": {
    "name": "ipython",
    "version": 3
   },
   "file_extension": ".py",
   "mimetype": "text/x-python",
   "name": "python",
   "nbconvert_exporter": "python",
   "pygments_lexer": "ipython3",
   "version": "3.6.5"
  }
 },
 "nbformat": 4,
 "nbformat_minor": 2
}
