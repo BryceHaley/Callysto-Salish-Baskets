{
 "cells": [
  {
   "cell_type": "code",
   "execution_count": 1,
   "metadata": {},
   "outputs": [
    {
     "data": {
      "text/html": [
       "<script>\n",
       "code_show=true; \n",
       "function code_toggle() { if (code_show){ $('div.input').hide(); } else { $('div.input').show(); } code_show = !code_show } \n",
       "$( document ).ready(code_toggle);\n",
       "</script>\n",
       "\n",
       "Raw code hidden. To show code, click <a href=\"javascript:code_toggle()\">here</a>. <b>To begin the notebook, click Kernel then click Restart & Run All. </b> "
      ],
      "text/plain": [
       "<IPython.core.display.HTML object>"
      ]
     },
     "execution_count": 1,
     "metadata": {},
     "output_type": "execute_result"
    }
   ],
   "source": [
    "from IPython.display import HTML\n",
    "\n",
    "HTML('''<script>\n",
    "code_show=true; \n",
    "function code_toggle() { if (code_show){ $('div.input').hide(); } else { $('div.input').show(); } code_show = !code_show } \n",
    "$( document ).ready(code_toggle);\n",
    "</script>\n",
    "\n",
    "Raw code hidden. To show code, click <a href=\"javascript:code_toggle()\">here</a>. <b>To begin the notebook, click Kernel then click Restart & Run All. </b> ''')"
   ]
  },
  {
   "cell_type": "code",
   "execution_count": 22,
   "metadata": {},
   "outputs": [],
   "source": [
    "%matplotlib notebook\n",
    "%run -i ./python_scripts/modules.py\n",
    "%run -i ./python_scripts/colours.py\n",
    "%run -i ./python_scripts/atomic_rectangle.py\n",
    "%run -i ./python_scripts/atomic_triangle.py\n",
    "%run -i ./python_scripts/atomic_chevron.py\n",
    "%run -i ./python_scripts/operations.py\n",
    "%run -i ./python_scripts/plotting.py"
   ]
  },
  {
   "cell_type": "code",
   "execution_count": 23,
   "metadata": {},
   "outputs": [
    {
     "data": {
      "text/html": [
       "<style>\n",
       ".output_wrapper button.btn.btn-default,\n",
       ".output_wrapper .ui-dialog-titlebar {\n",
       "  display: none;\n",
       "}\n",
       "</style>"
      ],
      "text/plain": [
       "<IPython.core.display.HTML object>"
      ]
     },
     "metadata": {},
     "output_type": "display_data"
    }
   ],
   "source": [
    "%%html\n",
    "<style>\n",
    ".output_wrapper button.btn.btn-default,\n",
    ".output_wrapper .ui-dialog-titlebar {\n",
    "  display: none;\n",
    "}\n",
    "</style>"
   ]
  },
  {
   "cell_type": "markdown",
   "metadata": {},
   "source": [
    "<center ><h1 >A Tool for Creating Geometric Patterns Observed in Tla'amin Woven Baskets </h1></center>\n",
    "    \n",
    "<b>Authors: Howell Tan, Jenifer Pham & Laura Gutierrez Funderburk, Cedric Chauve\n",
    "<br>Supervisors: Dr. Cedric Chauve and Dr. Veselin Jungic\n",
    "<br> Last modified on: July 25, 2018</b>"
   ]
  },
  {
   "cell_type": "markdown",
   "metadata": {},
   "source": [
    "## Overview\n",
    "Weaving is a craft with a long history in many places around the world, including the Pacific NorthWest. Woven baskets in particular have long been important practical and cultural objects for BC Coast Salish people. \n",
    "\n",
    "This notebook stems from a starting collaboration betwen Simon Fraser University and the <a href=\"http://www.tlaaminnation.com/\">Tla'amin Nation</a>. \n",
    "\n",
    "An important feature of woven baskets is the occurrence of regular geometric patterns. In the present notebook, we propose a preliminary exploration of these patterns, and more precisely of the patterns observed in two specific baskets presented to us during a visit to the Tla'amin Nation on May 8, 2018. \n",
    "\n",
    "Our aim is to provide a prototype of an interactive tool to manipulate these patterns toward an aid to the study of existing baskets or the design of novel baskets.\n",
    "\n",
    "In the first part of the notebook, we describe our approach to dewcribing observed patterns and how we model them. In the second part, we let the user design its own basket.\n",
    "\n",
    "**Designer comments.** The present notebook is a first draft, developed with the aim to present features that we believe are of interest either for students in the classroom studying basket patterns, or for basket designers wanting to experiment. We choose to concentrate on the patterns observed in two baskets for the sake of illustrating the potential of the notebook technology as a useful and easy-to-use interactive tool. The coding, hidden for a standard user, is itself a prototype, implying it can be improved especially toward making the patterns manipulation faster; speed was not a major concern in our initial approach and can certianly be improved if necessary. Generally, we welcome comments, criticisms and suggestions that will help us improve this draft toward its goals."
   ]
  },
  {
   "cell_type": "markdown",
   "metadata": {},
   "source": [
    "## Woven Baskets: cultural and practical aspects\n",
    "\n",
    "This notebook will not make sense without a description of the way woven baskets are designed and crafted, of their practical usages and of their cultural importance. These aspects add fundamental dimensions to the pure visual beauty of the baskets.\n",
    "\n",
    "**Designer comments.** Thanks to the generosity of our hosts, Gail Blaney and Betty Wilson, our May 8 visit to the Tla'amin Nation allowed us to get a first glimpse of some of these aspects and made it quite clear that including this material into a notebook will require significant input from baskets makers and artists. "
   ]
  },
  {
   "cell_type": "markdown",
   "metadata": {},
   "source": [
    "## Baskets Patterns & Mathematics\n",
    "\n",
    "Woven baskets are three dimensional (3D) objects onto which two dimensional (2D) geometric figures (called **patterns**) are represented and often repeated with some kind of symmetry. The present notebook is focusing on the patterns observed on the baskets shown in the figure below. These two baskets are composed of a circular basket containing  asingle repeated pattern and a rectangular basket with 4 faces, representing two patterns.\n",
    "\n",
    "<p align='center'>Circular Basket: Triangle Pattern</p>   |  <p align='center'> Rectangular Basket: Rectangular and Triangular Patterns </h3></p>\n",
    ":-------------------------:|:-------------------------:\n",
    "![Circular Basket](./images/20180509_150932.jpg)|![Rectangular Basket](./images/20180509_150145.jpg)|![Rectangular Basket](./images/20180509_150154.jpg)\n",
    "\n",
    "Unlike usual geometric figures, patterns observed on baskets are not composed of pure lines and points, but of an *assemblage* of rectangular units (that we call *blocks* from now) resulting of the process of weaving lanes obtained from cedar bark or root. Moreover, these patterns are *colored* leading to an additional important feature/dimension to their modeling.\n",
    "\n",
    "Our approach toward providing a tool that allows to explore the design of woven basket patterns is to *reduce* the notion of pattern to a few mathematical parameters, that describe their general *shape* and their *size*.  We insist on the fact that abstracting patterns to a few mathematical parameters is reducing, as, by taking away the actual human aspects of making a basket it results in extremely regular patterns that do not reflect the visual beauty and complexity of the patterns observed on real baskets. On the other hand, the ability to work with a few parameters allows to integrate them into computer programs, such as the one hidden in this notebook. "
   ]
  },
  {
   "cell_type": "markdown",
   "metadata": {},
   "source": [
    "## The Operations\n",
    "\n",
    "### Flip\n",
    "To <i> flip </i> a pattern means to take the pattern's <i> mirror image </i>. That is, if we were to hold a mirror above, below, or to the side of a pattern, then the figure we see through the mirror is the flipped pattern. By holding the mirror above or below the pattern we would obtain a pattern that has been <i> flipped horizontally. </i> Holding the mirror to the sides of the pattern results in a pattern that has been <i> flipped vertically. </i> Note that the mirror would have been held horizontally and vertically respectively.\n",
    "\n",
    "The image below shows an example of horizontal and vertical flipping.\n",
    "\n",
    "<center> <img src=\"./images/flip-operation.png\" alt=\"Flip Operation\" width = 65%>' </center>\n",
    "\n",
    "### Reflect\n",
    "\n",
    "To <i> reflect </i> a pattern is to take the pattern itself along with its mirror image. Similar to flipping a pattern, we can <i> reflect horizontally </i> by placing a mirror above or below the pattern and we can <i> reflect vertically </i> by placing the mirror to the left or right side of a pattern. We see that horizontal reflections are symmetrical about a horizontal line and vertical reflections are symmetrical about a verical line.\n",
    "\n",
    "With reflections, we have the option to control the spacing between the patterns. We define a spacing equal to -1 as overlapping while a spacing equal to 0 results in the patterns being side by side with no space in between. Note that we set the space before any reflecting occurs and as a result (and with exception to a spacing equal to -1), the amount of spacing displayed between the patterns is doubled the amount of spacing that was set.\n",
    "\n",
    "The image below shows an example of horizontal and vertical reflecting. The pattern reflected horizontally is reflected below and the pattern reflected vertically is reflected right.\n",
    "\n",
    "<center> <img src=\"./images/reflect-operation.png\" alt=\"Reflect Operation\" width = 65%>' </center>\n",
    "\n",
    "### Stack\n",
    "\n",
    "To <i> stack </i> a pattern is to duplicate the pattern and move the duplicate away from the initial pattern. So, to <i> stack horizontally </i> is to duplicate the pattern and fully move the duplicate to the right of the initial pattern. To <i> stack vertically </i> is to duplicate the pattern and fully move the duplicate directly above the initial pattern. Note that moving the duplicate directly below or to the left of the initial pattern will obtain the same results. To <i> stack diagonally </i> is duplicate the pattern and move the duplicate directly above the initial pattern then to the left or right of the pattern.\n",
    "\n",
    "Similar to reflecting, we have the option to control the spacing between the patterns. Unlike reflecting, the option to overlap is unavailable and the amount of spacing we set is exactly the amount of spacing that appears in the figure. \n",
    "\n",
    "The image below shows the three ways to stack a pattern along with the area defined as spacing. The pattern stacked diagonally is stacked diagonally to the right.\n",
    "\n",
    "<center> <img src=\"./images/stack-operation.png\" alt=\"Stack Operation\" width = 100%>' </center>"
   ]
  },
  {
   "cell_type": "markdown",
   "metadata": {},
   "source": [
    "## An interactive tool to design basket patterns\n",
    "\n",
    "We introduce below a first draft of an interactive tool aimed at designing patterns observed on baskets. the general principle is simple: a pattern is obtained from a simple starting shape, that can be defined with few parameters, that is duplicated using mathematical operators involving vertical and horizontal symmetry. \n",
    "\n",
    "This principle can be developed further but in this first draft, we apply it to the patterns observed in the two baskets shown above, as an illustration of its potential."
   ]
  },
  {
   "cell_type": "code",
   "execution_count": 4,
   "metadata": {},
   "outputs": [],
   "source": [
    "class Stack:\n",
    "     def __init__(self):\n",
    "         self.items = []\n",
    "\n",
    "     def isEmpty(self):\n",
    "         return self.items == []\n",
    "\n",
    "     def push(self, item):\n",
    "         self.items.append(item)\n",
    "\n",
    "     def pop(self):\n",
    "         return self.items.pop()\n",
    "\n",
    "     def peek(self):\n",
    "         return self.items[len(self.items)-1]\n",
    "\n",
    "     def size(self):\n",
    "        return len(self.items)"
   ]
  },
  {
   "cell_type": "code",
   "execution_count": 5,
   "metadata": {},
   "outputs": [],
   "source": [
    "def toggle_button_run_cell(change):\n",
    "    # Run next 6 cells once new toggle button is clicked to display appropriate pictures and widgets\n",
    "    value = change['new']\n",
    "    display(Javascript('IPython.notebook.execute_cell_range(IPython.notebook.get_selected_index()+1,IPython.notebook.get_selected_index()+7)'))"
   ]
  },
  {
   "cell_type": "code",
   "execution_count": 6,
   "metadata": {},
   "outputs": [],
   "source": [
    "def save_as(ev):\n",
    "    save_as_button.close()\n",
    "    display(file_name, save_button)\n",
    "\n",
    "def save_pattern(ev):\n",
    "    save_button.close()\n",
    "    \n",
    "    if atomic_built == True:\n",
    "\n",
    "        # Check if file name is taken    \n",
    "        if (file_name.value in pattern_files):\n",
    "            display( Markdown(\"The file <b>\" +  file_name.value + '</b> already exists. If you still would like to save your pattern as <b>' + file_name.value + '</b>, delete the file and save again.') )\n",
    "\n",
    "        # Write editted pattern into text file\n",
    "        elif (file_name2.value != ''):\n",
    "            file = open(\"./patterns/\" + file_name.value, \"w\")\n",
    "            new_pattern = list_to_pattern_str(mod_pattern)\n",
    "\n",
    "            file.write(new_pattern)\n",
    "            file.close()\n",
    "\n",
    "            display(Markdown(\"Your pattern has been saved as <b>\" + file_name.value + \"</b>.\"))\n"
   ]
  },
  {
   "cell_type": "code",
   "execution_count": 7,
   "metadata": {},
   "outputs": [],
   "source": [
    "def new_motif(ev):\n",
    "    display(Javascript('IPython.notebook.execute_cell_range(IPython.notebook.get_selected_index(),IPython.notebook.get_selected_index()+2)'))\n",
    "    \n",
    "    global atomic, atomic_built\n",
    "    \n",
    "    # Check if restart button was clicked\n",
    "    if (restart_bool == True):\n",
    "        atomic_built == False\n",
    "        \n",
    "    else:\n",
    "        atomic_built = True \n",
    "        \n",
    "    # Set atomic and close appropriate widgets \n",
    "    if (current_motif == 'Broken Line'):\n",
    "        atomic = build_atomic_rect(rect_h1.value, rect_h2.value, rect_width.value, num_colors.value)\n",
    "        rect_h1.close()\n",
    "        rect_h2.close()\n",
    "        rect_width.close()\n",
    "          \n",
    "    elif (current_motif == 'Triangle'):\n",
    "        atomic = build_atomic_tri(tri_height.value, num_colors.value)\n",
    "        tri_height.close()\n",
    "        \n",
    "    elif (current_motif == 'Diagonal Lines'):\n",
    "        atomic = build_atomic_chevron(chevron_height.value, num_colors.value)\n",
    "        chevron_height.close()\n",
    "        \n",
    "    elif (current_motif == 'Upload Patterns'):\n",
    "        loaded_pattern = open('./patterns/'+ pattern_choices.value, 'r') \n",
    "        atomic = loaded_pattern.read()\n",
    "        \n",
    "    num_colors.close()    \n",
    "    plot_motif_2D(atomic, ori_p)\n",
    "    \n",
    "def apply_flip(ev):\n",
    "    display(Javascript('IPython.notebook.execute_cell_range(IPython.notebook.get_selected_index()-1,IPython.notebook.get_selected_index()+2)'))\n",
    "    \n",
    "    # Record flipped pattern and display operation\n",
    "    atomic_f = flip(atomic, flip_choices.value)\n",
    "    plot_motif_2D(atomic_f, ori_p)\n",
    "    \n",
    "    global op_bool, new_pattern\n",
    "    op_bool = True\n",
    "    new_pattern = atomic_f \n",
    "    \n",
    "    # Empty backout stack since redo's are no longer possible\n",
    "    while not backup.isEmpty():\n",
    "        backup.pop()\n",
    "       \n",
    "    \n",
    "def apply_reflect_h(ev):\n",
    "\n",
    "    display(Javascript('IPython.notebook.execute_cell_range(IPython.notebook.get_selected_index()-1,IPython.notebook.get_selected_index()+2)'))\n",
    "    \n",
    "    # Record reflected pattern and display operation\n",
    "    atomic_h = reflect_h(atomic, spacing_reflect.value, choices_h.value)\n",
    "    plot_motif_2D(atomic_h, ori_p)\n",
    "    \n",
    "    global op_bool, new_pattern\n",
    "    op_bool = True\n",
    "    new_pattern = atomic_h \n",
    "    \n",
    "    # Empty backout stack since redo's are no longer possible    \n",
    "    while not backup.isEmpty():\n",
    "        backup.pop()\n",
    "\n",
    "def apply_reflect_v(ev):\n",
    "    display(Javascript('IPython.notebook.execute_cell_range(IPython.notebook.get_selected_index()-1,IPython.notebook.get_selected_index()+2)'))\n",
    "    \n",
    "    # Record reflected pattern and display operation\n",
    "    atomic_v = reflect_v(atomic, spacing_reflect.value, choices_v.value)\n",
    "    plot_motif_2D(atomic_v, ori_p)\n",
    "    \n",
    "    global op_bool, new_pattern\n",
    "    op_bool = True\n",
    "    new_pattern = atomic_v\n",
    "    \n",
    "    # Empty backout stack since redo's are no longer possible   \n",
    "    while not backup.isEmpty():\n",
    "        backup.pop()\n",
    "        \n",
    "def apply_stack_h(ev):\n",
    "\n",
    "    display(Javascript('IPython.notebook.execute_cell_range(IPython.notebook.get_selected_index()-1,IPython.notebook.get_selected_index()+2)'))\n",
    "    \n",
    "    # Record stacked pattern and display operation\n",
    "    atomic_h = stack_h(atomic, spacing_stack.value)\n",
    "    plot_motif_2D(atomic_h, ori_p)\n",
    "    \n",
    "    global op_bool, new_pattern\n",
    "    op_bool = True\n",
    "    new_pattern = atomic_h \n",
    "    \n",
    "    # Empty backout stack since redo's are no longer possible \n",
    "    while not backup.isEmpty():\n",
    "        backup.pop()\n",
    "\n",
    "def apply_stack_v(ev):\n",
    "    display(Javascript('IPython.notebook.execute_cell_range(IPython.notebook.get_selected_index()-1,IPython.notebook.get_selected_index()+2)'))\n",
    "    \n",
    "    # Record stacked pattern and display operation\n",
    "    atomic_v = stack_v(atomic, spacing_stack.value)\n",
    "    plot_motif_2D(atomic_v, ori_p)\n",
    "    \n",
    "    global op_bool, new_pattern\n",
    "    op_bool = True\n",
    "    new_pattern = atomic_v\n",
    "    \n",
    "    # Empty backout stack since redo's are no longer possible\n",
    "    while not backup.isEmpty():\n",
    "        backup.pop()\n",
    "        \n",
    "def apply_stack_d(ev):\n",
    "    display(Javascript('IPython.notebook.execute_cell_range(IPython.notebook.get_selected_index()-1,IPython.notebook.get_selected_index()+2)'))\n",
    "    \n",
    "    # Record stacked pattern and display operation\n",
    "    atomic_d = stack_d(atomic, spacing_stack.value, choices_d.value)\n",
    "    plot_motif_2D(atomic_d, ori_p)\n",
    "    \n",
    "    global op_bool, new_pattern\n",
    "    op_bool = True\n",
    "    new_pattern = atomic_d\n",
    "    \n",
    "    # Empty backout stack since redo's are no longer possible    \n",
    "    while not backup.isEmpty():\n",
    "        backup.pop()\n",
    "        \n",
    "def restart(ev):\n",
    "    global atomic_built, restart_bool, op_bool\n",
    "    atomic_built = False\n",
    "    op_bool = False\n",
    "    restart_bool = True\n",
    "    restart_button.close()\n",
    "    undo_button.close()\n",
    "    redo_button.close()\n",
    "    \n",
    "    # Empty main and backout stack since undos and redos are no longer possible\n",
    "    while not main.isEmpty():\n",
    "        main.pop()\n",
    "        \n",
    "    while not backup.isEmpty():\n",
    "        backup.pop()\n",
    "    \n",
    "    display(Javascript('IPython.notebook.execute_cell_range(IPython.notebook.get_selected_index()-3,IPython.notebook.get_selected_index()+1)'))"
   ]
  },
  {
   "cell_type": "code",
   "execution_count": 8,
   "metadata": {},
   "outputs": [],
   "source": [
    "def undo_pattern(ev):\n",
    "    global atomic\n",
    "    top = main.peek()\n",
    "    main.pop()\n",
    "    backup.push(top)\n",
    "    atomic = main.peek()\n",
    "    display(Javascript('IPython.notebook.execute_cell_range(IPython.notebook.get_selected_index(),IPython.notebook.get_selected_index()+2)'))\n",
    "    plot_motif_2D(atomic, ori_p)\n",
    "    \n",
    "def redo_pattern(ev):\n",
    "    global atomic\n",
    "    top = backup.peek()\n",
    "    backup.pop()\n",
    "    main.push(top)\n",
    "    atomic = main.peek()\n",
    "    display(Javascript('IPython.notebook.execute_cell_range(IPython.notebook.get_selected_index(),IPython.notebook.get_selected_index()+2)'))\n",
    "    plot_motif_2D(atomic, ori_p)"
   ]
  },
  {
   "cell_type": "code",
   "execution_count": 9,
   "metadata": {},
   "outputs": [
    {
     "data": {
      "application/vnd.jupyter.widget-view+json": {
       "model_id": "c0225dcb69bb4eef891ad6602894db80",
       "version_major": 2,
       "version_minor": 0
      },
      "text/plain": [
       "ToggleButtons(button_style='info', layout=Layout(align_items='stretch', display='flex', justify_content='cente…"
      ]
     },
     "metadata": {},
     "output_type": "display_data"
    },
    {
     "data": {
      "application/javascript": [
       "IPython.notebook.execute_cell_range(IPython.notebook.get_selected_index()+1,IPython.notebook.get_selected_index()+7)"
      ],
      "text/plain": [
       "<IPython.core.display.Javascript object>"
      ]
     },
     "metadata": {},
     "output_type": "display_data"
    }
   ],
   "source": [
    "motif_options = widgets.ToggleButtons(\n",
    "    button_style = 'info',\n",
    "    options=['Broken Line', 'Triangle', 'Diagonal Lines', 'Upload Pattern'],\n",
    "    description='',\n",
    "    disabled=False,\n",
    "    layout = Layout(display='flex',\n",
    "                    align_items='stretch',\n",
    "                    justify_content = 'center'))\n",
    "\n",
    "display(motif_options)\n",
    "motif_options.observe(toggle_button_run_cell, 'value')"
   ]
  },
  {
   "cell_type": "code",
   "execution_count": 16,
   "metadata": {},
   "outputs": [
    {
     "data": {
      "text/markdown": [
       "<center> <img src=\"./images/atomic-tri.png\" alt=\"Atomic Triangle\">"
      ],
      "text/plain": [
       "<IPython.core.display.Markdown object>"
      ]
     },
     "metadata": {},
     "output_type": "display_data"
    },
    {
     "data": {
      "text/markdown": [
       "<h2> Triangular Motif </h2>"
      ],
      "text/plain": [
       "<IPython.core.display.Markdown object>"
      ]
     },
     "metadata": {},
     "output_type": "display_data"
    }
   ],
   "source": [
    "current_motif = motif_options.value\n",
    "\n",
    "# Display appropriate heading and image\n",
    "if (current_motif == 'Broken Line'):\n",
    "    display(Markdown('<center> <img src=\"./images/atomic-rect.png\" alt=\"Atomic Rectangle\">'))\n",
    "    display(Markdown(\"<h2> Broken Line Motif </h2>\"))\n",
    "    \n",
    "elif (current_motif == 'Triangle'):\n",
    "    display(Markdown('<center> <img src=\"./images/atomic-tri.png\" alt=\"Atomic Triangle\">'))\n",
    "    display(Markdown(\"<h2> Triangular Motif </h2>\"))\n",
    "    \n",
    "elif (current_motif == 'Diagonal Lines'):\n",
    "    display(Markdown('<center> <img src=\"./images/atomic-chevron.png\" alt=\"Atomic Chevron\">'))\n",
    "    display(Markdown(\"<h2> Diagonal Lines Motif </h2>\"))\n"
   ]
  },
  {
   "cell_type": "code",
   "execution_count": 17,
   "metadata": {},
   "outputs": [],
   "source": [
    "# Create Stacks used to record edits\n",
    "\n",
    "main = Stack()\n",
    "backup = Stack()"
   ]
  },
  {
   "cell_type": "code",
   "execution_count": 18,
   "metadata": {},
   "outputs": [],
   "source": [
    "# Create General Sliders\n",
    "\n",
    "style = {'description_width': 'initial'}\n",
    "num_colors = widgets.IntSlider(value = 3, min = 1, max = 5, description = \"Number of Colors\", style = style)\n",
    "num_colors.style.handle_color = '#47b0cb'\n",
    "# palette = widgets.Dropdown(options={'Original':ori_p,'Seafoam Green' : pal_a, 'Magenta to blue' : pal_b, 'Ocean Breeze' : pal_c,\n",
    "#              'Fiery Red' : pal_d, 'Fiery Red 2' : pal_j, 'Blue' : pal_e, 'Turquoise' : pal_f,\n",
    "#             'Red to Purple': pal_g, 'Purple to Pink' : pal_h, 'Burnt Orange' : pal_i, \n",
    "#              'Forest Green' : pal_k, 'Bold Lavender' : pal_l, 'Valentine Red' : pal_m}, value = ori_p,\n",
    "#     description='Palette:',\n",
    "#     disabled = False,)\n",
    "\n",
    "# Create Sliders for Parameters for Rectangle\n",
    "\n",
    "rect_h1 = widgets.IntSlider(value = 2, min = 1, max = 10, description = \"Height 1\", style = style, )\n",
    "rect_h1.style.handle_color = '#47b0cb'\n",
    "rect_h2 = widgets.IntSlider(value = 2, min = 1, max = 10, description = \"Height 2\", style = style)\n",
    "rect_h2.style.handle_color = '#47b0cb'\n",
    "rect_width = widgets.IntSlider(value = 5, min = 0, max = 20, description = \"Width\", style = style)\n",
    "rect_width.style.handle_color = '#47b0cb'\n",
    "\n",
    "# Create Sliders for Parameters for Triangle\n",
    "\n",
    "tri_height = widgets.IntSlider(value = 5, min = 3, max = 10, description = \"Height\", style = style)\n",
    "tri_height.style.handle_color = '#47b0cb'\n",
    "\n",
    "# Create Sliders for Parameters for Chevron\n",
    "chevron_height = widgets.IntSlider(value = 5, min = 3, max = 10, description = \"Height\", style = style)\n",
    "chevron_height.style.handle_color = '#47b0cb'\n",
    "\n",
    "# List Pattern Text Files\n",
    "pattern_files = os.listdir(\"./patterns/\")\n",
    "\n",
    "if '.ipynb_checkpoints' in pattern_files:\n",
    "    pattern_files.remove('.ipynb_checkpoints')\n",
    "    \n",
    "pattern_choices = widgets.Dropdown(options = pattern_files, description ='Pattern:', style = style, disabled=False,)"
   ]
  },
  {
   "cell_type": "code",
   "execution_count": 19,
   "metadata": {},
   "outputs": [
    {
     "data": {
      "application/vnd.jupyter.widget-view+json": {
       "model_id": "83beb73cf126456696c8f7214c1fe5cb",
       "version_major": 2,
       "version_minor": 0
      },
      "text/plain": [
       "IntSlider(value=5, description='Height', max=10, min=3, style=SliderStyle(description_width='initial', handle_…"
      ]
     },
     "metadata": {},
     "output_type": "display_data"
    },
    {
     "data": {
      "application/vnd.jupyter.widget-view+json": {
       "model_id": "1a185dacd62444109365aa762a941660",
       "version_major": 2,
       "version_minor": 0
      },
      "text/plain": [
       "IntSlider(value=3, description='Number of Colors', max=5, min=1, style=SliderStyle(description_width='initial'…"
      ]
     },
     "metadata": {},
     "output_type": "display_data"
    }
   ],
   "source": [
    "global counter_0, atomic_built, current_pattern, op_bool, restart_bool\n",
    "atomic_built = False\n",
    "h_bool = False\n",
    "v_bool = False\n",
    "op_bool = False\n",
    "restart_bool = False\n",
    "counter_0 = 0\n",
    "\n",
    "# Display Sliders for Parameters\n",
    "\n",
    "if (current_motif == 'Broken Line'):\n",
    "    display(rect_h1, rect_h2, rect_width, num_colors)\n",
    "\n",
    "elif (current_motif == 'Triangle'):\n",
    "    display(tri_height, num_colors)\n",
    "    \n",
    "elif (current_motif == 'Diagonal Lines'):\n",
    "    display(chevron_height, num_colors)\n",
    "\n",
    "elif (current_motif == 'Upload Pattern'):\n",
    "    display(pattern_choices)"
   ]
  },
  {
   "cell_type": "code",
   "execution_count": 20,
   "metadata": {},
   "outputs": [
    {
     "data": {
      "application/vnd.jupyter.widget-view+json": {
       "model_id": "05fd37c8f4714245a6cab33b24f9631d",
       "version_major": 2,
       "version_minor": 0
      },
      "text/plain": [
       "Button(button_style='info', description='Display Motif', style=ButtonStyle())"
      ]
     },
     "metadata": {},
     "output_type": "display_data"
    }
   ],
   "source": [
    "# Create atomic piece\n",
    "\n",
    "global atomic\n",
    "\n",
    "if (current_motif == 'Broken Line'):\n",
    "    atomic = build_atomic_rect(rect_h1.value, rect_h2.value, rect_width.value, num_colors.value)\n",
    "    \n",
    "elif (current_motif == 'Triangle'):\n",
    "    atomic = build_atomic_tri(tri_height.value, num_colors.value)\n",
    "    \n",
    "elif (current_motif == 'Diagonal Lines'):\n",
    "    atomic = build_atomic_chevron(chevron_height.value, num_colors.value)\n",
    "    \n",
    "elif (current_motif == 'Upload Pattern'):\n",
    "    loaded_pattern = open('./patterns/'+ pattern_choices.value, 'r') \n",
    "    atomic = loaded_pattern.read()\n",
    "    \n",
    "# Create Motif Button\n",
    "motif_button = widgets.Button( button_style= 'info', description=\"Display Motif\" );\n",
    "motif_button.on_click(new_motif)\n",
    "\n",
    "# Check if atomic piece has been built. If not, display button to plot atomic piece\n",
    "if atomic_built == False:\n",
    "    display(motif_button)\n"
   ]
  },
  {
   "cell_type": "code",
   "execution_count": 21,
   "metadata": {
    "scrolled": false
   },
   "outputs": [],
   "source": [
    "# Define Layout\n",
    "box_layout = Layout(display='flex', flex_flow='row', align_items='center', width='50%', justify_content = 'center')\n",
    "\n",
    "# Restart Button\n",
    "restart_button = widgets.Button( button_style= 'info', description=\"Restart\")\n",
    "\n",
    "# Create Saving Tools\n",
    "save_button = widgets.Button(button_style= 'info',description=\"Save\")\n",
    "save_button.on_click(save_pattern)\n",
    "\n",
    "save_as_button = widgets.Button(button_style= 'info',description=\"Save As\")\n",
    "save_as_button.on_click(save_as)\n",
    "\n",
    "file_name = widgets.Text(placeholder = '', description='File Name:', disabled=False)\n",
    "\n",
    "# Create Buttons for Flipping\n",
    "flip_choices = widgets.RadioButtons(options=['Flip Horizontally', 'Flip Vertically'], layout = box_layout, disabled=False)\n",
    "apply_flip_button = widgets.Button( button_style= 'info',description=\"Apply\")\n",
    "flip_box = HBox(children= [flip_choices, apply_flip_button], layout = box_layout)\n",
    "\n",
    "# Create Buttons and Sliders for Reflecting\n",
    "spacing_reflect = widgets.IntSlider(value = -1, min = -1, max = 10, description = \"Spacing Amount\", style = style)\n",
    "spacing_reflect.style.handle_color = '#47b0cb'\n",
    "\n",
    "apply_spacing_h_button = widgets.Button( button_style= 'info',description=\"Apply\")\n",
    "apply_spacing_v_button = widgets.Button( button_style= 'info',description=\"Apply\")\n",
    "\n",
    "choices_h = widgets.RadioButtons(options=['Reflect Above', 'Reflect Below'], layout = box_layout, disabled=False)\n",
    "choices_v = widgets.RadioButtons(options=['Reflect Left', 'Reflect Right'], layout = box_layout,disabled=False)\n",
    "\n",
    "spacing_h_box = HBox(children = [spacing_reflect, apply_spacing_h_button], layout=box_layout)\n",
    "spacing_v_box = HBox(children = [spacing_reflect, apply_spacing_v_button], layout=box_layout)\n",
    "\n",
    "# Create Buttons and Sliders for Stacking\n",
    "apply_stacking_h_button = widgets.Button( button_style= 'info',description=\"Apply\")\n",
    "apply_stacking_v_button = widgets.Button( button_style= 'info',description=\"Apply\")\n",
    "apply_stacking_d_button = widgets.Button( button_style= 'info',description=\"Apply\")\n",
    "\n",
    "choices_d = widgets.RadioButtons(options=['Stack Left', 'Stack Right'], layout = box_layout,disabled=False)\n",
    "spacing_stack = widgets.IntSlider(value = 0, min = 0, max = 10, description = \"Spacing Amount\", style = style)\n",
    "\n",
    "stacking_h_box = HBox(children = [spacing_stack, apply_stacking_h_button], layout=box_layout)\n",
    "stacking_v_box = HBox(children = [spacing_stack, apply_stacking_v_button], layout=box_layout)\n",
    "stacking_d_box = HBox(children = [spacing_stack, apply_stacking_d_button], layout=box_layout)\n",
    "\n",
    "# Create Accordian for Operations\n",
    "reflection_options = widgets.Accordion(children = [flip_box, VBox([choices_h, spacing_h_box]), VBox([choices_v, spacing_v_box]), \n",
    "                                       VBox([stacking_h_box]), VBox([stacking_v_box]), VBox([choices_d, stacking_d_box])],  style = style)\n",
    "reflection_options.selected_index = None # Collaspe accordian\n",
    "reflection_options.set_title(0, 'Flip')\n",
    "reflection_options.set_title(1, 'Reflect Horizontally')\n",
    "reflection_options.set_title(2, 'Reflect Vertically')\n",
    "reflection_options.set_title(3, 'Stack Horizontally')\n",
    "reflection_options.set_title(4, 'Stack Vertically')\n",
    "reflection_options.set_title(5, 'Stack Diagonally')\n",
    "\n",
    "# Define on_click events\n",
    "apply_flip_button.on_click(apply_flip)\n",
    "apply_spacing_h_button.on_click(apply_reflect_h)\n",
    "apply_spacing_v_button.on_click(apply_reflect_v)\n",
    "apply_stacking_h_button.on_click(apply_stack_h)\n",
    "apply_stacking_v_button.on_click(apply_stack_v)\n",
    "apply_stacking_d_button.on_click(apply_stack_d)\n",
    "restart_button.on_click(restart)\n",
    "\n",
    "# Create Buttons for Editing\n",
    "undo_button = widgets.Button( button_style= 'warning',description=\"Undo\")\n",
    "redo_button = widgets.Button( button_style= 'warning',description=\"Redo\")\n",
    "\n",
    "undo_button.on_click(undo_pattern)\n",
    "redo_button.on_click(redo_pattern)\n",
    "edit_buttons = [undo_button, redo_button]\n",
    "\n",
    "edit_box = Box(children= edit_buttons, layout=box_layout)\n",
    "\n",
    "# Check if new atomic was created\n",
    "if atomic_built == True and op_bool == False:\n",
    "    if main.isEmpty():\n",
    "        main.push(atomic)\n",
    "        motif_button.close()\n",
    "    \n",
    "    # User had clicked undo\n",
    "    if backup.size() >= 1:\n",
    "        \n",
    "        # Main stack only has original atomic but reflections have been applied -- undo option has been exhausted\n",
    "        if main.size() == 1:\n",
    "            display(Box(children = [redo_button], layout=box_layout))\n",
    "        \n",
    "        # Undo and redo option available\n",
    "        elif main.size() >= 2:\n",
    "            display(edit_box)\n",
    "    \n",
    "    # User has applied operations to original motif\n",
    "    elif main.size() >= 2:\n",
    "        display(Box(children = [undo_button], layout=box_layout))\n",
    "\n",
    "    display(reflection_options)\n",
    "    display(VBox([save_as_button, restart_button]))\n",
    "\n",
    "# Check if operation has been applied\n",
    "# If so, add the current pattern onto main stack\n",
    "if op_bool == True:\n",
    "    atomic = new_pattern\n",
    "    main.push(atomic)\n",
    "    op_bool = False\n",
    "    \n",
    "    # User has not clicked undo\n",
    "    if backup.isEmpty():\n",
    "        display(Box(children = [undo_button], layout=box_layout))\n",
    "        \n",
    "    display(reflection_options)\n",
    "    display(VBox([save_as_button, restart_button]))\n",
    "\n",
    "\n"
   ]
  },
  {
   "cell_type": "markdown",
   "metadata": {},
   "source": [
    "## Future work\n",
    "\n",
    "The tool above is only a first draft of a more general tool we expect to develop over the next few months.\n",
    "\n",
    "The main feature of our approach is to see basket patterns under the prism of geometric shapes and symmetries. This results in the possibility to design complex patterns from simple ones to which simple mathematical operators are applied.\n",
    "\n",
    "Next, we plan to introduce a larger bank of atomic patterns, the possibility to combine several patterns onto a same basket, the possibility to modify interactively a pattern at any given time in the process, and finally 3D rendering of the designed patterns. "
   ]
  }
 ],
 "metadata": {
  "kernelspec": {
   "display_name": "Python 3",
   "language": "python",
   "name": "python3"
  },
  "language_info": {
   "codemirror_mode": {
    "name": "ipython",
    "version": 3
   },
   "file_extension": ".py",
   "mimetype": "text/x-python",
   "name": "python",
   "nbconvert_exporter": "python",
   "pygments_lexer": "ipython3",
   "version": "3.6.5"
  }
 },
 "nbformat": 4,
 "nbformat_minor": 2
}
