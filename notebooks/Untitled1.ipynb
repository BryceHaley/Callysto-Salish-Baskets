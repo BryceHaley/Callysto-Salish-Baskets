{
 "cells": [
  {
   "cell_type": "code",
   "execution_count": 1,
   "metadata": {
    "scrolled": false
   },
   "outputs": [
    {
     "data": {
      "text/html": [
       "<html>\n",
       "<head>\n",
       "<title>Example</title>\n",
       "</head>\n",
       "<body>\n",
       "<p>This is an example of a simple HTML page with one paragraph.</p>\n",
       "</body>\n",
       "</html>"
      ],
      "text/plain": [
       "<IPython.core.display.HTML object>"
      ]
     },
     "execution_count": 1,
     "metadata": {},
     "output_type": "execute_result"
    }
   ],
   "source": [
    "from IPython.display import HTML\n",
    "HTML('''<html>\n",
    "<head>\n",
    "<title>Example</title>\n",
    "</head>\n",
    "<body>\n",
    "<p>This is an example of a simple HTML page with one paragraph.</p>\n",
    "</body>\n",
    "</html>''')"
   ]
  },
  {
   "cell_type": "code",
   "execution_count": 2,
   "metadata": {
    "scrolled": true
   },
   "outputs": [
    {
     "data": {
      "text/html": [
       "<!DOCTYPE html>\n",
       "<html>\n",
       "    <head>\n",
       "      <title>Example</title>\n",
       "      \n",
       "      <!-- filepath is relative to notebook note this script-->\n",
       "      <link rel=\"stylesheet\" href=\"html_scripts/stylesheets/test.css\">\n",
       "      <link rel=\"stylesheet\" href=\"https://www.w3schools.com/w3css/4/w3.css\">\n",
       "    </head>\n",
       "    <body>\n",
       "      <p>\n",
       "       <div class = \"size-options\">\n",
       "          <label for=\"height\">Height (5-25):</label>\n",
       "          <input type=\"number\" id =\"height\" min=\"5\" max = \"25\" value = \"10\">\n",
       "          <label for=\"width\">Width (5-25):</label>\n",
       "          <input type=\"number\" id=\"width\" min=\"5\" max=\"25\" value = \"10\">\n",
       "          <button onclick=\"setGrid()\" class=\"shape-btn settings-btn\">Create Canvas</button>\n",
       "        </div>\n",
       "      </p>\n",
       "      <div id=\"paint area\">\n",
       "        <div class=\"edit-motif\">\n",
       "          <div class=\"palette-selector\">\n",
       "            <button id=\"black-btn\"  class=\"colour-options\" value =\"#000000\"></button>\n",
       "            <button id=\"wheat-btn\" class=\"colour-options\" value =\"#F5DEB3\"></button>\n",
       "            <button id=\"maroon-btn\" class=\"colour-options\" value =\"#800000\"></button>\n",
       "            <button id=\"sand-btn\" class=\"colour-options\" value =\"#ffe07c\"></button>\n",
       "            <button id=\"goldenrod-btn\" class=\"colour-options\" value =\"#DAA520\"></button>\n",
       "            <button id=\"khaki-btn\" class=\"colour-options\" value =\"#F0E68C\"></button>\n",
       "            <button id=\"default-btn\" class=\"colour-options\" value =\"#d5a967\"></button>\n",
       "        </div>\n",
       "        <p>\n",
       "          <div id=\"canvas\"> </div></p>\n",
       "        <div id=\"save-area\">\n",
       "            <label class=\"w3-text-blue\"><b>File Name</b></label>\n",
       "            <input id=file-name class=\"w3-input w3-border\" type=\"text\">\n",
       "            <p>\n",
       "              <button class=\"save-btn settings-btn\">Save</button></p>\n",
       "        </div>\n",
       "      </div>\n",
       "    </div>\n",
       "\n",
       "      <!-- filepath is relative to notebook note this script-->\n",
       "      <script src=\"html_scripts/scripts/test.js\" type=\"text/javascript\"></script>\n",
       "    </body>\n",
       "</html>\n"
      ],
      "text/plain": [
       "<IPython.core.display.HTML object>"
      ]
     },
     "execution_count": 2,
     "metadata": {},
     "output_type": "execute_result"
    }
   ],
   "source": [
    "from IPython.display import HTML\n",
    "\n",
    "HTML(filename=\"./html_scripts/test.html\")"
   ]
  },
  {
   "cell_type": "code",
   "execution_count": 3,
   "metadata": {},
   "outputs": [
    {
     "ename": "NameError",
     "evalue": "name 'save_edited_pattern' is not defined",
     "output_type": "error",
     "traceback": [
      "\u001b[0;31m---------------------------------------------------------------------------\u001b[0m",
      "\u001b[0;31mNameError\u001b[0m                                 Traceback (most recent call last)",
      "\u001b[0;32m<ipython-input-3-97a46b1d0a8a>\u001b[0m in \u001b[0;36m<module>\u001b[0;34m\u001b[0m\n\u001b[0;32m----> 1\u001b[0;31m \u001b[0msave_edited_pattern\u001b[0m\u001b[0;34m(\u001b[0m\u001b[0;34m'test3'\u001b[0m\u001b[0;34m,\u001b[0m \u001b[0;34m'abcdef---------\\n---------------\\n---------------\\n---------------\\n---------------\\n---------------\\n---------------\\n---------------\\n---------------'\u001b[0m\u001b[0;34m)\u001b[0m\u001b[0;34m\u001b[0m\u001b[0;34m\u001b[0m\u001b[0m\n\u001b[0m",
      "\u001b[0;31mNameError\u001b[0m: name 'save_edited_pattern' is not defined"
     ]
    }
   ],
   "source": [
    "save_edited_pattern('test3', 'abcdef---------\\n---------------\\n---------------\\n---------------\\n---------------\\n---------------\\n---------------\\n---------------\\n---------------')"
   ]
  },
  {
   "cell_type": "code",
   "execution_count": null,
   "metadata": {},
   "outputs": [],
   "source": [
    "import os;\n",
    "def save_edited_pattern(fileName, pattern):\n",
    "         \n",
    "    # List Pattern Text Files\n",
    "    pattern_files = os.listdir(\"./patterns/\")\n",
    "\n",
    "    # Remove checkpoints from folder if exists\n",
    "    if '.ipynb_checkpoints' in pattern_files:\n",
    "        pattern_files.remove('.ipynb_checkpoints')\n",
    "        \n",
    "    # Check if file name is taken    \n",
    "    if (fileName in pattern_files):\n",
    "        #display( Markdown(\"The file <b>\" +  fileName + '</b> already exists. If you still would like to save your pattern as <b>' + file_name2.value + '</b>, delete the file and save again.') )\n",
    "        print(\"name taken\")\n",
    "        \n",
    "    # Write edited pattern into text file\n",
    "    elif (fileName != ''):\n",
    "        file = open(\"./patterns/\" + fileName, \"w\")\n",
    "        \n",
    "        file.write(pattern)\n",
    "        file.close()"
   ]
  },
  {
   "cell_type": "code",
   "execution_count": null,
   "metadata": {
    "scrolled": false
   },
   "outputs": [],
   "source": [
    "save(\"arr\")"
   ]
  },
  {
   "cell_type": "code",
   "execution_count": null,
   "metadata": {
    "scrolled": false
   },
   "outputs": [],
   "source": [
    "print(testName)"
   ]
  },
  {
   "cell_type": "code",
   "execution_count": null,
   "metadata": {
    "scrolled": false
   },
   "outputs": [],
   "source": [
    "save(savefile)"
   ]
  }
 ],
 "metadata": {
  "kernelspec": {
   "display_name": "Python 3",
   "language": "python",
   "name": "python3"
  },
  "language_info": {
   "codemirror_mode": {
    "name": "ipython",
    "version": 3
   },
   "file_extension": ".py",
   "mimetype": "text/x-python",
   "name": "python",
   "nbconvert_exporter": "python",
   "pygments_lexer": "ipython3",
   "version": "3.7.6"
  }
 },
 "nbformat": 4,
 "nbformat_minor": 4
}
