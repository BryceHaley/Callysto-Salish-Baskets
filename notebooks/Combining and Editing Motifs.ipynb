{
 "cells": [
  {
   "cell_type": "code",
   "execution_count": null,
   "metadata": {},
   "outputs": [],
   "source": [
    "!pip install matplotlib --user -q\n",
    "!pip install seaborn --user -q"
   ]
  },
  {
   "cell_type": "code",
   "execution_count": 1,
   "metadata": {},
   "outputs": [
    {
     "data": {
      "text/html": [
       "<script>\n",
       "code_show=true; \n",
       "function code_toggle() { if (code_show){ $('div.input').hide(); } else { $('div.input').show(); } code_show = !code_show } \n",
       "$( document ).ready(code_toggle);\n",
       "</script>\n",
       "\n",
       "Raw code hidden. To show code, click <a href=\"javascript:code_toggle()\">here</a>. <b>To begin the notebook, click Kernel then click Restart & Run All. </b> "
      ],
      "text/plain": [
       "<IPython.core.display.HTML object>"
      ]
     },
     "execution_count": 1,
     "metadata": {},
     "output_type": "execute_result"
    }
   ],
   "source": [
    "from IPython.display import HTML\n",
    "\n",
    "HTML('''<script>\n",
    "code_show=true; \n",
    "function code_toggle() { if (code_show){ $('div.input').hide(); } else { $('div.input').show(); } code_show = !code_show } \n",
    "$( document ).ready(code_toggle);\n",
    "</script>\n",
    "\n",
    "Raw code hidden. To show code, click <a href=\"javascript:code_toggle()\">here</a>. <b>To begin the notebook, click Kernel then click Restart & Run All. </b> ''')"
   ]
  },
  {
   "cell_type": "markdown",
   "metadata": {},
   "source": [
    "![alt text](https://github.com/callysto/callysto-sample-notebooks/blob/master/notebooks/images/Callysto_Notebook-Banner_Top_06.06.18.jpg?raw=true)  \n"
   ]
  },
  {
   "cell_type": "markdown",
   "metadata": {},
   "source": [
    "<center><h1>Combining and Editing Motifs</h1></center>\n",
    "    \n",
    "#### Authors: Howell Tan, Jenifer Pham & Laura Gutierrez Funderburk, Cedric Chauve\n",
    "#### Contact: [Dr. Cedric Chauve](https://cchauve.github.io) and [Dr. Veselin Jungic](http://people.math.sfu.ca/~vjungic/)\n",
    "#### This is joint collaboration with Tla'amin Nation members: Ms. Betty Wilson, Ms. Gail Blaine, and Mr. Tyler Peters.\n",
    "#### Acknowledgements:\n",
    "We thank the Tla'amin Nation and members Ms. Betty Wilson, Ms. Gail Blaine, and Mr. Tyler Peters for sharing their knowledge and wisdom on the craft of traditional basket weaving. Without their openness this project would have not taken place. We also acknowledge that this work was conducted in unceded territory of the Musqueam , Skxwú7mesh, Tsleil-Waututh, Kwikwetlem nations. We thank PIMS and Cybera, as well as the Government of Canada for providing financial support and infrastructure.\n",
    "#### Last modified: October 26, 2018"
   ]
  },
  {
   "cell_type": "code",
   "execution_count": 2,
   "metadata": {},
   "outputs": [],
   "source": [
    "%matplotlib notebook\n",
    "%run -i ./python_scripts/modules.py\n",
    "%run -i ./python_scripts/colours.py\n",
    "%run -i ./python_scripts/atomic_rectangle.py\n",
    "%run -i ./python_scripts/atomic_triangle.py\n",
    "%run -i ./python_scripts/atomic_chevron.py\n",
    "%run -i ./python_scripts/operations.py\n",
    "%run -i ./python_scripts/plotting.py\n",
    "%run -i ./python_scripts/modify_patterns.py"
   ]
  },
  {
   "cell_type": "code",
   "execution_count": 3,
   "metadata": {},
   "outputs": [
    {
     "data": {
      "text/html": [
       "<style>\n",
       ".output_wrapper button.btn.btn-default,\n",
       ".output_wrapper .ui-dialog-titlebar {\n",
       "  display: none;\n",
       "}\n",
       "</style>"
      ],
      "text/plain": [
       "<IPython.core.display.HTML object>"
      ]
     },
     "metadata": {},
     "output_type": "display_data"
    }
   ],
   "source": [
    "%%html\n",
    "<style>\n",
    ".output_wrapper button.btn.btn-default,\n",
    ".output_wrapper .ui-dialog-titlebar {\n",
    "  display: none;\n",
    "}\n",
    "</style>"
   ]
  },
  {
   "cell_type": "code",
   "execution_count": 4,
   "metadata": {},
   "outputs": [],
   "source": [
    "def rerun_cell(ev):\n",
    "    \n",
    "    display(Javascript('IPython.notebook.execute_cell_range(IPython.notebook.get_selected_index()+1,IPython.notebook.get_selected_index()+2)'))"
   ]
  },
  {
   "cell_type": "code",
   "execution_count": 5,
   "metadata": {},
   "outputs": [],
   "source": [
    "def save_joined_pattern(ev):\n",
    "    global pattern_files\n",
    "    \n",
    "    display(Javascript('IPython.notebook.execute_cell_range(IPython.notebook.get_selected_index(), IPython.notebook.get_selected_index()+1)'))\n",
    "\n",
    "    # List Pattern Text Files\n",
    "    pattern_files = os.listdir(\"./patterns/\")\n",
    "    \n",
    "    # Remove checkpoints from folder if exists\n",
    "    if '.ipynb_checkpoints' in pattern_files:\n",
    "        pattern_files.remove('.ipynb_checkpoints')\n",
    "    \n",
    "    # Check if file name is taken\n",
    "    if (file_name1.value in pattern_files):\n",
    "        display( Markdown(\"The file <b>\" +  file_name1.value + '</b> already exists. If you still would like to save your pattern as <b>' + file_name1.value + '</b>, delete the file and save again.') )\n",
    "    \n",
    "    # Write joined pattern into text file\n",
    "    elif (file_name1.value != ''):\n",
    "        file = open(\"./patterns/\" + file_name1.value, \"w\")\n",
    "        new_pattern = join_patterns(first, second, spacing.value)\n",
    "\n",
    "        file.write(new_pattern)\n",
    "        file.close()\n",
    "\n",
    "        display(Markdown(\"Your motif has been saved as <b>\" + file_name1.value + \"</b>.\"))\n",
    "\n",
    "\n",
    "def save_edited_pattern(ev):\n",
    "    global pattern_files, mod_pattern\n",
    "    \n",
    "    display(Javascript('IPython.notebook.execute_cell_range(IPython.notebook.get_selected_index(), IPython.notebook.get_selected_index()+1)'))\n",
    "     \n",
    "    # List Pattern Text Files\n",
    "    pattern_files = os.listdir(\"./patterns/\")\n",
    "\n",
    "    # Remove checkpoints from folder if exists\n",
    "    if '.ipynb_checkpoints' in pattern_files:\n",
    "        pattern_files.remove('.ipynb_checkpoints')\n",
    "        \n",
    "    # Check if file name is taken    \n",
    "    if (file_name2.value in pattern_files):\n",
    "        display( Markdown(\"The file <b>\" +  file_name2.value + '</b> already exists. If you still would like to save your pattern as <b>' + file_name2.value + '</b>, delete the file and save again.') )\n",
    "    \n",
    "    # Write edited pattern into text file\n",
    "    elif (file_name2.value != ''):\n",
    "        file = open(\"./patterns/\" + file_name2.value, \"w\")\n",
    "        new_pattern = list_to_pattern_str(mod_pattern)\n",
    "        \n",
    "        file.write(new_pattern)\n",
    "        file.close()\n",
    "\n",
    "        display(Markdown(\"Your motif has been saved as <b>\" + file_name2.value + \"</b>.\"))\n",
    "\n",
    "def save_created_pattern(ev):    \n",
    "    global pattern_files, create_pattern\n",
    "    \n",
    "    display(Javascript('IPython.notebook.execute_cell_range(IPython.notebook.get_selected_index(), IPython.notebook.get_selected_index()+1)'))\n",
    "     \n",
    "    # List Pattern Text Files\n",
    "    pattern_files = os.listdir(\"./patterns/\")\n",
    "\n",
    "    # Removed checkpoints from folder if exists\n",
    "    if '.ipynb_checkpoints' in pattern_files:\n",
    "        pattern_files.remove('.ipynb_checkpoints')\n",
    "      \n",
    "    # Check if file name is taken\n",
    "    if (file_name3.value in pattern_files):\n",
    "        display( Markdown(\"The file <b>\" +  file_name3.value + '</b> already exists. If you still would like to save your pattern as <b>' + file_name3.value + '</b>, delete the file and save again.') )\n",
    "    \n",
    "    # Write newly created pattern into text file\n",
    "    elif (file_name3.value != ''):\n",
    "        file = open(\"./patterns/\" + file_name3.value, \"w\")\n",
    "        new_pattern = list_to_pattern_str(create_pattern)\n",
    "        \n",
    "        file.write(new_pattern)\n",
    "        file.close()\n",
    "\n",
    "        display(Markdown(\"Your motif has been saved as <b>\" + file_name3.value + \"</b>.\"))\n",
    "\n",
    "def refresh_list(ev):\n",
    "    global pattern_files\n",
    "    \n",
    "    # List Pattern Text Files\n",
    "    pattern_files = os.listdir(\"./patterns/\")\n",
    "\n",
    "    if '.ipynb_checkpoints' in pattern_files:\n",
    "        pattern_files.remove('.ipynb_checkpoints')\n",
    "    \n",
    "    # Rerun cell to refresh list of files in pattern folder\n",
    "    display(Javascript('IPython.notebook.execute_cell_range(IPython.notebook.get_selected_index(), IPython.notebook.get_selected_index()+1)'))\n",
    "\n",
    "def apply_alteration(ev):\n",
    "    global create_button_clicked, join_button_clicked, edit_button_clicked\n",
    "    create_button_clicked = True\n",
    "    join_button_clicked = True\n",
    "    edit_button_clicked = True\n",
    "    \n",
    "    # Run cell below\n",
    "    display(Javascript('IPython.notebook.execute_cell_range(IPython.notebook.get_selected_index()+1, IPython.notebook.get_selected_index()+3)'))\n",
    "    "
   ]
  },
  {
   "cell_type": "code",
   "execution_count": 6,
   "metadata": {},
   "outputs": [],
   "source": [
    "global pattern_files, new_pattern, file_name, save_button\n",
    "\n",
    "# Create folder name patterns in pattern folder does not exist\n",
    "if not os.path.exists('patterns'):\n",
    "    os.makedirs('patterns')\n",
    "        \n",
    "# List Pattern Text Files\n",
    "pattern_files = os.listdir(\"./patterns/\")\n",
    "\n",
    "# Remove checkpoints from folder if exists\n",
    "if '.ipynb_checkpoints' in pattern_files:\n",
    "    pattern_files.remove('.ipynb_checkpoints')\n",
    "\n",
    "    "
   ]
  },
  {
   "cell_type": "code",
   "execution_count": 7,
   "metadata": {},
   "outputs": [],
   "source": [
    "# Define layout and style of widgets\n",
    "box_layout = Layout(display='flex', flex_flow='row', align_items='center', width='100%', justify_content = 'center')\n",
    "style = {'description_width': 'initial'}"
   ]
  },
  {
   "cell_type": "markdown",
   "metadata": {},
   "source": [
    "## Combining motifs\n",
    "   \n",
    "The motifs that we have seen up until now have been generated from a single atomic motif. A basket sometimes displays multiple motifs, combined together. To do so, our tool below allows to select two motifs created previously, set the desired spacing between them, and click the Join motifs button. \n",
    "\n",
    "Two motifs of the same height will be simply be previewed side by side. motifs of unequal heights need additional blocks added to the top and bottom of the motif with lower valued height in order for the height dimensions to match. Thus, the motif of lower valued height will be horizontally centered alongside the motif with higher valued height. \n",
    "\n",
    "Once two motifs have been joined, you can save the motif and continue to combine more motifs to your new motif if you wish. If you have saved your motif but do not see the file in the dropdown menu, try clicking on the Refresh Files button.\n"
   ]
  },
  {
   "cell_type": "code",
   "execution_count": 8,
   "metadata": {},
   "outputs": [
    {
     "data": {
      "application/vnd.jupyter.widget-view+json": {
       "model_id": "383d684ef22b4fda80938063d67d56d1",
       "version_major": 2,
       "version_minor": 0
      },
      "text/plain": [
       "Box(children=(Dropdown(description='Motif 1:', options=(), style=DescriptionStyle(description_width='initial')…"
      ]
     },
     "metadata": {},
     "output_type": "display_data"
    },
    {
     "data": {
      "application/vnd.jupyter.widget-view+json": {
       "model_id": "db79b8ec9696400c9946952f000e7206",
       "version_major": 2,
       "version_minor": 0
      },
      "text/plain": [
       "VBox(children=(IntSlider(value=0, description='Spacing Amount', max=10, style=SliderStyle(description_width='i…"
      ]
     },
     "metadata": {},
     "output_type": "display_data"
    }
   ],
   "source": [
    "global join_button_clicked\n",
    "join_button_clicked = False\n",
    "\n",
    "# Layout for widgets\n",
    "box_layout = Layout(display='flex', flex_flow='row', align_items='center', width='100%', justify_content = 'center')\n",
    "style = {'description_width': 'initial'}\n",
    "\n",
    "# Create dropdown menu for patterns\n",
    "first_pattern = widgets.Dropdown(options = pattern_files, description ='Motif 1:', style = style, disabled=False,)\n",
    "second_pattern = widgets.Dropdown(options = pattern_files, description ='Motif 2:', style = style, disabled=False,)\n",
    "spacing = widgets.IntSlider(value = 0, min = 0, max = 10, description = \"Spacing Amount\", style = style)\n",
    "\n",
    "# Create join and refresh button and define click events\n",
    "join_button = widgets.Button( button_style= 'info', description=\"Join Motifs\")\n",
    "join_button.on_click(apply_alteration)\n",
    "\n",
    "refresh_button = widgets.Button( button_style= 'info', description=\"Refresh Files\")\n",
    "refresh_button.on_click(refresh_list)\n",
    "\n",
    "display(Box(children = [first_pattern, second_pattern, refresh_button], layout = box_layout))\n",
    "display(VBox(children = [spacing, join_button], layout = Layout(display= 'flex', flex_flow= 'column', align_items= 'center', width='100%', justify_content = 'center')))\n",
    "\n",
    "# Create saving widgets\n",
    "save_button1 = widgets.Button(button_style= 'info',description=\"Save\")\n",
    "save_button1.on_click(save_joined_pattern)\n",
    "\n",
    "file_name1 = widgets.Text(value = '', description='File Name:', disabled=False)"
   ]
  },
  {
   "cell_type": "code",
   "execution_count": 9,
   "metadata": {},
   "outputs": [],
   "source": [
    "if (join_button_clicked == True and pattern_files != []):\n",
    "    \n",
    "    display(Markdown('<center> <h3> Motif Preview </h3>'))\n",
    "    \n",
    "    # Read chosen pattern text files, join the patterns and display new pattern\n",
    "    first = open('./patterns/'+ first_pattern.value, 'r') \n",
    "    first = first.read()\n",
    "    second = open('./patterns/'+ second_pattern.value, 'r') \n",
    "    second = second.read()\n",
    "\n",
    "    new_pattern = join_patterns(first, second, spacing.value)\n",
    "    plot_motif_2D(new_pattern, ori_p)"
   ]
  },
  {
   "cell_type": "code",
   "execution_count": 10,
   "metadata": {},
   "outputs": [],
   "source": [
    "if (join_button_clicked == True and pattern_files != []):\n",
    "\n",
    "    display(file_name1, save_button1)"
   ]
  },
  {
   "cell_type": "markdown",
   "metadata": {},
   "source": [
    "## Editing motifs\n",
    "    \n",
    "In the interactive below, we can manually edit motifs by clicking. Start by choosing one of the available motifs. To edit your motif, choose a color and click on a block in your motif display to change its color. To erase, choose the last color and click on the block you wish to erase."
   ]
  },
  {
   "cell_type": "code",
   "execution_count": 11,
   "metadata": {},
   "outputs": [
    {
     "data": {
      "application/vnd.jupyter.widget-view+json": {
       "model_id": "d4d15f7cd6cf497592c313e8d452408b",
       "version_major": 2,
       "version_minor": 0
      },
      "text/plain": [
       "Box(children=(Dropdown(description='Motif:', options=(), style=DescriptionStyle(description_width='initial'), …"
      ]
     },
     "metadata": {},
     "output_type": "display_data"
    },
    {
     "data": {
      "application/vnd.jupyter.widget-view+json": {
       "model_id": "f078ec811e294f82b73db0c1fcd8bc39",
       "version_major": 2,
       "version_minor": 0
      },
      "text/plain": [
       "Box(children=(Button(button_style='info', description='Edit', style=ButtonStyle()),), layout=Layout(align_item…"
      ]
     },
     "metadata": {},
     "output_type": "display_data"
    }
   ],
   "source": [
    "global mod_pattern, edit_button_clicked\n",
    "edit_button_clicked = False\n",
    "\n",
    "# Create widgets for editing patterns\n",
    "pattern_to_edit = widgets.Dropdown(options = pattern_files, description ='Motif:', style = style, disabled=False,)\n",
    "edit_button = widgets.Button( description = 'Edit', button_style = 'info')\n",
    "edit_button.on_click(apply_alteration)\n",
    "display(Box( children = [pattern_to_edit, refresh_button], layout = box_layout))\n",
    "display(Box( children = [edit_button], layout = box_layout))\n",
    "\n",
    "# Create saving widgets\n",
    "save_button2 = widgets.Button(button_style= 'info',description=\"Save\")\n",
    "save_button2.on_click(save_edited_pattern)\n",
    "\n",
    "file_name2 = widgets.Text(value = '', description='File Name:', disabled=False)"
   ]
  },
  {
   "cell_type": "code",
   "execution_count": 12,
   "metadata": {
    "scrolled": false
   },
   "outputs": [],
   "source": [
    "if (edit_button_clicked == True and pattern_files != []):\n",
    "    \n",
    "    # Read chosen pattern text file, and display pattern for editing\n",
    "    pattern = open('./patterns/'+ pattern_to_edit.value, 'r') \n",
    "    pattern = pattern.read()\n",
    "    \n",
    "    edit(pattern, ori_p)"
   ]
  },
  {
   "cell_type": "code",
   "execution_count": 13,
   "metadata": {},
   "outputs": [],
   "source": [
    "if (edit_button_clicked == True and pattern_files != []):\n",
    "    \n",
    "    display(file_name2, save_button2)"
   ]
  },
  {
   "cell_type": "markdown",
   "metadata": {},
   "source": [
    "## Create Your Own motif\n",
    "    \n",
    "All motifs emerge from a blank canvas. Here, you have full autonomy to create your own motif from scratch. Start by specifying the height and width of your canvas. That is, choose the number of respective rows and columns you would like your canvas to have. Note only positive integers values will be accepted. Decimal inputs will be rounded down to the nearest integer.\n",
    "\n",
    "Once you have specified your dimensions, click the Create Canvas button. To create your motif, choose a color and click on a block to change its color. To erase, choose the last color and click on the block you wish to erase."
   ]
  },
  {
   "cell_type": "code",
   "execution_count": 14,
   "metadata": {},
   "outputs": [
    {
     "data": {
      "application/vnd.jupyter.widget-view+json": {
       "model_id": "817b747e2b9240438fe2a80c5c13233c",
       "version_major": 2,
       "version_minor": 0
      },
      "text/plain": [
       "Box(children=(BoundedIntText(value=10, description='Height', layout=Layout(height='30px', width='20%'), min=1)…"
      ]
     },
     "metadata": {},
     "output_type": "display_data"
    }
   ],
   "source": [
    "global create_button_clicked\n",
    "create_button_clicked = False\n",
    "\n",
    "# Create widgets for creating pattern\n",
    "height_box = widgets.BoundedIntText(value = 10, min = 1, description = 'Height', disabled = False, layout = Layout(width = \"20%\", height = \"30px\"))\n",
    "width_box = widgets.BoundedIntText(value = 20, min = 1, description = 'Width', disabled = False, layout = Layout(width = \"20%\", height = \"30px\"))\n",
    "create_button = widgets.Button(button_style = 'info', description = 'Create Canvas')\n",
    "\n",
    "display(Box([height_box, width_box, create_button], layout = box_layout))\n",
    "\n",
    "create_button.on_click(apply_alteration)\n",
    "\n",
    "# Create saving widgets\n",
    "save_button3 = widgets.Button(button_style= 'info',description=\"Save\")\n",
    "save_button3.on_click(save_created_pattern)\n",
    "\n",
    "file_name3 = widgets.Text(value = '', description='File Name:', disabled=False)"
   ]
  },
  {
   "cell_type": "code",
   "execution_count": 15,
   "metadata": {},
   "outputs": [],
   "source": [
    "if (create_button_clicked == True):\n",
    "    # Creates a string filled with the plain blocks based on the specified dimensions\n",
    "    canvas_st = height_box.value*(width_box.value*'-' + '\\n')\n",
    "    create(canvas_st, ori_p)"
   ]
  },
  {
   "cell_type": "code",
   "execution_count": 16,
   "metadata": {},
   "outputs": [],
   "source": [
    "if (create_button_clicked == True):\n",
    "    \n",
    "    display(file_name3, save_button3)\n",
    "    "
   ]
  },
  {
   "cell_type": "markdown",
   "metadata": {},
   "source": [
    "![alt text](https://github.com/callysto/callysto-sample-notebooks/blob/master/notebooks/images/Callysto_Notebook-Banners_Bottom_06.06.18.jpg?raw=true)"
   ]
  }
 ],
 "metadata": {
  "kernelspec": {
   "display_name": "Python 3",
   "language": "python",
   "name": "python3"
  },
  "language_info": {
   "codemirror_mode": {
    "name": "ipython",
    "version": 3
   },
   "file_extension": ".py",
   "mimetype": "text/x-python",
   "name": "python",
   "nbconvert_exporter": "python",
   "pygments_lexer": "ipython3",
   "version": "3.6.5"
  }
 },
 "nbformat": 4,
 "nbformat_minor": 2
}
