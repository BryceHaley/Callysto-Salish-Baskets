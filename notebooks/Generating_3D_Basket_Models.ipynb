{
 "cells": [
  {
   "cell_type": "code",
   "execution_count": 1,
   "metadata": {},
   "outputs": [
    {
     "data": {
      "text/html": [
       "<script>\n",
       "code_show=true; \n",
       "function code_toggle() { if (code_show){ $('div.input').hide(); } else { $('div.input').show(); } code_show = !code_show } \n",
       "$( document ).ready(code_toggle);\n",
       "</script>\n",
       "\n",
       "Raw code hidden. To show code, click <a href=\"javascript:code_toggle()\">here</a>. <b>To begin the notebook, click Kernel then click Restart & Run All. </b> "
      ],
      "text/plain": [
       "<IPython.core.display.HTML object>"
      ]
     },
     "execution_count": 1,
     "metadata": {},
     "output_type": "execute_result"
    }
   ],
   "source": [
    "from IPython.display import HTML\n",
    "\n",
    "HTML('''<script>\n",
    "code_show=true; \n",
    "function code_toggle() { if (code_show){ $('div.input').hide(); } else { $('div.input').show(); } code_show = !code_show } \n",
    "$( document ).ready(code_toggle);\n",
    "</script>\n",
    "\n",
    "Raw code hidden. To show code, click <a href=\"javascript:code_toggle()\">here</a>. <b>To begin the notebook, click Kernel then click Restart & Run All. </b> ''')"
   ]
  },
  {
   "cell_type": "code",
   "execution_count": 2,
   "metadata": {},
   "outputs": [],
   "source": [
    "%matplotlib notebook\n",
    "%run -i ./python_scripts/modules.py\n",
    "%run -i ./python_scripts/colours.py\n",
    "%run -i ./python_scripts/atomic_rectangle.py\n",
    "%run -i ./python_scripts/atomic_triangle.py\n",
    "%run -i ./python_scripts/atomic_chevron.py\n",
    "%run -i ./python_scripts/operations.py\n",
    "%run -i ./python_scripts/plotting.py"
   ]
  },
  {
   "cell_type": "code",
   "execution_count": 3,
   "metadata": {},
   "outputs": [
    {
     "data": {
      "text/html": [
       "<style>\n",
       ".output_wrapper button.btn.btn-default,\n",
       ".output_wrapper .ui-dialog-titlebar {\n",
       "  display: none;\n",
       "}\n",
       "</style>"
      ],
      "text/plain": [
       "<IPython.core.display.HTML object>"
      ]
     },
     "metadata": {},
     "output_type": "display_data"
    }
   ],
   "source": [
    "%%html\n",
    "<style>\n",
    ".output_wrapper button.btn.btn-default,\n",
    ".output_wrapper .ui-dialog-titlebar {\n",
    "  display: none;\n",
    "}\n",
    "</style>"
   ]
  },
  {
   "cell_type": "markdown",
   "metadata": {},
   "source": [
    "<center ><h1 >Generating 3D Models of Woven Baskets</h1></center>\n",
    "\n",
    "A <i> net </i> of a 3D shape is an arrangement of two dimensional shapes which can be folded along the edges to become the faces of the 3D shape.  Given a rectangular basket (without a lid cover), we see that the net of the basket consists of five shapes: one rectangle, which makes up the bottom of the basket, and four trapezoids, which make up the sides. Hence, we can add up to four patterns to generate a 3D model of a rectangular basket with patterns.\n",
    "\n",
    "<center> <img src=\"./images/net-rect.png\" alt=\"Rectangular Basket and Net\" width = 50%>\n",
    "    \n",
    "Given a circular basket (without a lid cover), we see that the net of the basket consists of only two shapes. The bottom of the basket is circular in shape and the surface making up the sides of the basket can be thought of as a single curved trapezoid. Hence, we only require one pattern to generate a 3D model of a circular basket with patterns.\n",
    "\n",
    "<center> <img src=\"./images/net-circ.png\" alt=\"Circular Basket and Net\" width = 50%>\n",
    "\n",
    "To place your patterns onto 3D models, first choose a basket shape and then choose the pattern you would like to see on each face. If you have saved your pattern but do not see the file in the dropdown menu, try clicking on the Refresh Files button. "
   ]
  },
  {
   "cell_type": "code",
   "execution_count": 4,
   "metadata": {},
   "outputs": [],
   "source": [
    "def toggle_button_run_cell(change):\n",
    "    # Run next 4 cells once toggle is changed to display appropriate widgets\n",
    "    value = change['new']\n",
    "    display(Javascript('IPython.notebook.execute_cell_range(IPython.notebook.get_selected_index()+1, IPython.notebook.get_selected_index()+5)'))\n",
    "\n",
    "def refresh_list(ev):\n",
    "    \n",
    "    display(Javascript('IPython.notebook.execute_cell_range(IPython.notebook.get_selected_index()-1, IPython.notebook.get_selected_index()+1)'))\n",
    "    \n",
    "def plot_basket(ev):\n",
    "    global files_selected\n",
    "    files_selected = True\n",
    "    \n",
    "    # Run next cell to plot basket\n",
    "    display(Javascript('IPython.notebook.execute_cell_range(IPython.notebook.get_selected_index()+1, IPython.notebook.get_selected_index()+2)'))\n"
   ]
  },
  {
   "cell_type": "code",
   "execution_count": 5,
   "metadata": {},
   "outputs": [
    {
     "data": {
      "application/vnd.jupyter.widget-view+json": {
       "model_id": "25857e3bb9dc4d1585cac62d73c52f63",
       "version_major": 2,
       "version_minor": 0
      },
      "text/plain": [
       "ToggleButtons(button_style='info', layout=Layout(align_items='stretch', display='flex', justify_content='cente…"
      ]
     },
     "metadata": {},
     "output_type": "display_data"
    }
   ],
   "source": [
    "global files_selected\n",
    "files_selected = False\n",
    "\n",
    "# Create Toggle Buttons for basket shape selection\n",
    "basket_options = widgets.ToggleButtons(\n",
    "    button_style = 'info',\n",
    "    options=['Rectangular Basket', 'Circular Basket'],\n",
    "    description='',\n",
    "    disabled=False,\n",
    "    layout = Layout(display='flex',\n",
    "                    align_items='stretch',\n",
    "                    justify_content = 'center'))\n",
    "\n",
    "display(basket_options)\n",
    "basket_options.observe(toggle_button_run_cell, 'value')"
   ]
  },
  {
   "cell_type": "code",
   "execution_count": 6,
   "metadata": {
    "scrolled": true
   },
   "outputs": [
    {
     "data": {
      "text/markdown": [
       "<center><h2> Rectangular Basket </h2>"
      ],
      "text/plain": [
       "<IPython.core.display.Markdown object>"
      ]
     },
     "metadata": {},
     "output_type": "display_data"
    },
    {
     "data": {
      "text/markdown": [
       "<center> <img src=\"./images/rect-basket.png\" alt=\"Rectangular Basket\">"
      ],
      "text/plain": [
       "<IPython.core.display.Markdown object>"
      ]
     },
     "metadata": {},
     "output_type": "display_data"
    }
   ],
   "source": [
    "basket_chose = basket_options.value\n",
    "\n",
    "# Display example of basket image\n",
    "if (basket_chose == 'Rectangular Basket'):\n",
    "    display(Markdown('<center><h2> Rectangular Basket </h2>'))\n",
    "    display(Markdown('<center> <img src=\"./images/rect-basket.png\" alt=\"Rectangular Basket\">'))\n",
    "\n",
    "elif (basket_chose == 'Circular Basket'):\n",
    "    display(Markdown('<center><h2> Circular Basket </h2>'))\n",
    "    display(Markdown('<center> <img src=\"./images/circ-basket.png\" alt=\"Circular Basket\">'))\n"
   ]
  },
  {
   "cell_type": "code",
   "execution_count": 7,
   "metadata": {},
   "outputs": [],
   "source": [
    "# List Pattern Text Files\n",
    "pattern_files = os.listdir(\"./patterns/\")\n",
    "\n",
    "if '.ipynb_checkpoints' in pattern_files:\n",
    "    pattern_files.remove('.ipynb_checkpoints')\n",
    "    \n",
    "box_layout = Layout(display='flex', flex_flow='row', align_items='center', width='100%', justify_content = 'center')\n",
    "style = {'description_width': 'initial'}"
   ]
  },
  {
   "cell_type": "code",
   "execution_count": 8,
   "metadata": {},
   "outputs": [
    {
     "data": {
      "application/vnd.jupyter.widget-view+json": {
       "model_id": "decbce8492854c2da9d7ef9b2a07b6fc",
       "version_major": 2,
       "version_minor": 0
      },
      "text/plain": [
       "Box(children=(VBox(children=(Dropdown(description='Front Pattern:', options=('test1',), style=DescriptionStyle…"
      ]
     },
     "metadata": {},
     "output_type": "display_data"
    },
    {
     "data": {
      "application/vnd.jupyter.widget-view+json": {
       "model_id": "25f62e1a665b45ecadd8d1924fc65c55",
       "version_major": 2,
       "version_minor": 0
      },
      "text/plain": [
       "Box(children=(Button(button_style='info', description='Plot Basket', style=ButtonStyle()), Button(button_style…"
      ]
     },
     "metadata": {},
     "output_type": "display_data"
    }
   ],
   "source": [
    "# Create Refresh Button\n",
    "refresh_button = widgets.Button( button_style= 'info', description=\"Refresh Files\")\n",
    "refresh_button.on_click(refresh_list)\n",
    "\n",
    "# Create Plot Button\n",
    "plot_button = widgets.Button( button_style= 'info', description=\"Plot Basket\")\n",
    "plot_button.on_click(plot_basket)\n",
    "\n",
    "# Create Dropdown Menus for Faces of the Rectangular Basket\n",
    "front_pattern = widgets.Dropdown(options = pattern_files, description ='Front Pattern:', style = style, disabled=False,)\n",
    "back_pattern = widgets.Dropdown(options = pattern_files, description ='Back Pattern:', style = style, disabled=False,)\n",
    "left_pattern = widgets.Dropdown(options = pattern_files, description ='Left Side Pattern:', style = style, disabled=False,)\n",
    "right_pattern = widgets.Dropdown(options = pattern_files, description ='Right Side Pattern:', style = style, disabled=False,)\n",
    "\n",
    "box1 = VBox([front_pattern, back_pattern], layout = Layout(display= 'flex', flex_flow= 'column', align_items= 'center', width='50%', justify_content = 'center'))\n",
    "box2 = VBox([left_pattern, right_pattern], layout = Layout(display= 'flex', flex_flow= 'column', align_items= 'center', width='50%', justify_content = 'center'))\n",
    "\n",
    "# Create Dropdown Menu for Face of the Circular Basket\n",
    "circ_pattern = widgets.Dropdown(options = pattern_files, description ='Pattern:', style = style, disabled=False,)\n",
    "\n",
    "if (basket_chose == 'Rectangular Basket'):\n",
    "    \n",
    "    display(Box(children = [box1, box2], layout = box_layout))\n",
    "    display(Box(children = [plot_button, refresh_button], layout = box_layout))\n",
    "    \n",
    "elif (basket_chose == 'Circular Basket'):\n",
    "    \n",
    "    display(Box(children = [circ_pattern, refresh_button], layout = box_layout))\n",
    "    display(Box(children = [plot_button], layout = box_layout))\n"
   ]
  },
  {
   "cell_type": "code",
   "execution_count": 9,
   "metadata": {},
   "outputs": [],
   "source": [
    "# Check if files have been selected \n",
    "# Assign pattern to appropriate face(s) and plot basket\n",
    "if files_selected == True:  \n",
    "    if (basket_chose == 'Rectangular Basket'):\n",
    "\n",
    "        front = open('./patterns/'+ front_pattern.value, 'r') \n",
    "        front = front.read()\n",
    "\n",
    "        back = open('./patterns/'+ back_pattern.value, 'r') \n",
    "        back = back.read()\n",
    "\n",
    "        left = open('./patterns/'+ left_pattern.value, 'r') \n",
    "        left = left.read()\n",
    "\n",
    "        right = open('./patterns/'+ right_pattern.value, 'r') \n",
    "        right = right.read()\n",
    "\n",
    "        plot_rect_basket(front, back, left, right, ori_p)\n",
    "\n",
    "    elif (basket_chose == 'Circular Basket'):\n",
    "        pattern = open('./patterns/'+ circ_pattern.value, 'r')\n",
    "        pattern = pattern.read()\n",
    "        plot_circ_basket(pattern, ori_p)\n",
    "    \n",
    "\n",
    "    files_selected = False"
   ]
  }
 ],
 "metadata": {
  "kernelspec": {
   "display_name": "Python 3",
   "language": "python",
   "name": "python3"
  },
  "language_info": {
   "codemirror_mode": {
    "name": "ipython",
    "version": 3
   },
   "file_extension": ".py",
   "mimetype": "text/x-python",
   "name": "python",
   "nbconvert_exporter": "python",
   "pygments_lexer": "ipython3",
   "version": "3.6.5"
  }
 },
 "nbformat": 4,
 "nbformat_minor": 2
}
